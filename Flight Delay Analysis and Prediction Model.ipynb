{
 "cells": [
  {
   "cell_type": "markdown",
   "id": "92f489fb",
   "metadata": {},
   "source": [
    "# FLIGHT DELAY PREDICTION MACHINE LEARNING MODEL"
   ]
  },
  {
   "cell_type": "markdown",
   "id": "63108a02",
   "metadata": {},
   "source": [
    "## INTRODUCTION"
   ]
  },
  {
   "cell_type": "markdown",
   "id": "f5b51495",
   "metadata": {},
   "source": [
    "The airline industry is critical in modern society, enabling travel across vast distances within short times. However, this industry is maintained by a fragile logistical ecosystem including issues such as delays, cancellations, and lost luggage. In this project, I will be analyzing flight records from Washington DC to New York to create a model predicting on the chance of a flight being delayed. This model would work not only to improve operational efficiency but also to better the airline service for society."
   ]
  },
  {
   "cell_type": "markdown",
   "id": "ede8caee",
   "metadata": {},
   "source": [
    "## 1. PROBLEM DEFINITION"
   ]
  },
  {
   "cell_type": "markdown",
   "id": "d15909c0",
   "metadata": {},
   "source": [
    "This research aims to develop a machine learning model that can distinguish between on-time and delay flights using Logistic Regression, Naive Bayes, and Decision Tree algorithms."
   ]
  },
  {
   "cell_type": "markdown",
   "id": "7fef5529",
   "metadata": {},
   "source": [
    "## 2. DATA PREPARATION"
   ]
  },
  {
   "cell_type": "markdown",
   "id": "861efc6e",
   "metadata": {},
   "source": [
    "### a. Data description"
   ]
  },
  {
   "cell_type": "markdown",
   "id": "0df3106f",
   "metadata": {},
   "source": [
    "* Data source: The dataset, collected by United States Department of Transportation, records all flights from the Washington DC area into the New Your City area during January 2004 [Link](https://www.transtats.bts.gov/).\n",
    "* Data organization: 1 CSV file organized in a long data format.\n",
    "* Sample size: 2,201 observations.\n",
    "* Number of features: 21 columns.\n",
    "* Data duration: 2004-01-01 to 2004-01-31."
   ]
  },
  {
   "cell_type": "markdown",
   "id": "70bccb0a",
   "metadata": {},
   "source": [
    "### b. Features"
   ]
  },
  {
   "cell_type": "markdown",
   "id": "998adc83",
   "metadata": {},
   "source": [
    "There are 13 features in the dataset:\n",
    "* CRS_DEP_TIME: scheduled departure time\n",
    "* CARRIER: the airline code (AA = American Airlines; CO = Continental Air Lines; DH = Atlantic Coast Airlines; DL = Delta Air Lines; EV = Atlantic Southeast Airlines; FL = Airtran Airways Corporation; MQ = American Eagle Airlines; OH = Comair; RU = Continental Express Airline; UA = United Air Lines; US = US Airways)\n",
    "* DEP_TIME: actual departure time\n",
    "* DEST: destination airport in New York City (EWR = Newark Liberty International Airport; JFK = John F. Kennedy International Airport; LGA = LaGuardia Airport)\n",
    "* DISTANCE: flight distance in miles\n",
    "* FL_DATE: flight date\n",
    "* FL_NUM: flight number\n",
    "* ORIGIN: departure airport in Washington DC (BWI = Baltimore/Washington International Thurgood Marshall Airport; DCA = Ronald Reagan Washington National Airport; IAD = Dulles International Airport)\n",
    "* Weather: whether the weather was inclement (1 = Yes; 0 = No)\n",
    "* DAY_WEEK: day of week (1 = Monday; 2 = Tuesday; 3 = Wednesday; 4 = Thursday; 5 = Friday, 6 = Saturday; 7 = Sunday)\n",
    "* DAY_OF_MONTH: day of month\n",
    "* TAIL_NUM: this number is airplane specific\n",
    "* Flight Status: the flight status can be 'delayed' or 'ontime' \n"
   ]
  },
  {
   "cell_type": "markdown",
   "id": "526a1590",
   "metadata": {},
   "source": [
    "## 3. DATA PROCESSING"
   ]
  },
  {
   "cell_type": "markdown",
   "id": "da6720a0",
   "metadata": {},
   "source": [
    "I decide to use Python for data cleaning and data modeling because we can use Scikit-learn, which is the most useful and robust library for machine learning in Python. It provides a selection of efficient tools for machine learning and statistical modeling including classification, regression, clustering and dimensionality reduction via a consistence interface in Python."
   ]
  },
  {
   "cell_type": "markdown",
   "id": "fa5fab98",
   "metadata": {},
   "source": [
    "Let's load some required packages for data modeling and import our dataset."
   ]
  },
  {
   "cell_type": "code",
   "execution_count": 1,
   "id": "bf56d9fd",
   "metadata": {},
   "outputs": [],
   "source": [
    "#Regular EDA (exploratory data analysis) and plotting libraries\n",
    "import math\n",
    "import pandas as pd\n",
    "import seaborn as sns\n",
    "import numpy as np\n",
    "import matplotlib.pylab as plt\n",
    "import matplotlib.pyplot as plt\n",
    "%matplotlib inline\n",
    "\n",
    "#Package for splitting the dataset to training set and test set\n",
    "from sklearn.model_selection import train_test_split\n",
    "\n",
    "#Package for Logistic Regression model\n",
    "from sklearn.linear_model import LogisticRegression\n",
    "\n",
    "#Package for Naive Bayes model\n",
    "from sklearn.naive_bayes import MultinomialNB\n",
    "\n",
    "#Package for Decision Tree model\n",
    "from sklearn.tree import DecisionTreeClassifier\n",
    "\n",
    "#Package to handle imbalanced datasets\n",
    "from imblearn.under_sampling import RandomUnderSampler\n",
    "from imblearn.over_sampling import RandomOverSampler\n",
    "\n",
    "#Package for model evaluation\n",
    "from sklearn.metrics import confusion_matrix, accuracy_score\n",
    "from dmba import classificationSummary"
   ]
  },
  {
   "cell_type": "code",
   "execution_count": 2,
   "id": "a9875d28",
   "metadata": {},
   "outputs": [],
   "source": [
    "#Loading the data\n",
    "raw_data = pd.read_csv('FlightDelays.csv')"
   ]
  },
  {
   "cell_type": "markdown",
   "id": "9088d51e",
   "metadata": {},
   "source": [
    "### a. Data cleaning"
   ]
  },
  {
   "cell_type": "code",
   "execution_count": 3,
   "id": "6ba464ba",
   "metadata": {},
   "outputs": [
    {
     "data": {
      "text/plain": [
       "(2201, 13)"
      ]
     },
     "execution_count": 3,
     "metadata": {},
     "output_type": "execute_result"
    }
   ],
   "source": [
    "#Viewing dataframe structure\n",
    "raw_data.shape"
   ]
  },
  {
   "cell_type": "markdown",
   "id": "daa0ea87",
   "metadata": {},
   "source": [
    "There are 2201 observations of 13 features."
   ]
  },
  {
   "cell_type": "code",
   "execution_count": 4,
   "id": "cb31515a",
   "metadata": {},
   "outputs": [
    {
     "data": {
      "text/html": [
       "<div>\n",
       "<style scoped>\n",
       "    .dataframe tbody tr th:only-of-type {\n",
       "        vertical-align: middle;\n",
       "    }\n",
       "\n",
       "    .dataframe tbody tr th {\n",
       "        vertical-align: top;\n",
       "    }\n",
       "\n",
       "    .dataframe thead th {\n",
       "        text-align: right;\n",
       "    }\n",
       "</style>\n",
       "<table border=\"1\" class=\"dataframe\">\n",
       "  <thead>\n",
       "    <tr style=\"text-align: right;\">\n",
       "      <th></th>\n",
       "      <th>CRS_DEP_TIME</th>\n",
       "      <th>CARRIER</th>\n",
       "      <th>DEP_TIME</th>\n",
       "      <th>DEST</th>\n",
       "      <th>DISTANCE</th>\n",
       "      <th>FL_DATE</th>\n",
       "      <th>FL_NUM</th>\n",
       "      <th>ORIGIN</th>\n",
       "      <th>Weather</th>\n",
       "      <th>DAY_WEEK</th>\n",
       "      <th>DAY_OF_MONTH</th>\n",
       "      <th>TAIL_NUM</th>\n",
       "      <th>Flight Status</th>\n",
       "    </tr>\n",
       "  </thead>\n",
       "  <tbody>\n",
       "    <tr>\n",
       "      <th>0</th>\n",
       "      <td>1455</td>\n",
       "      <td>OH</td>\n",
       "      <td>1455</td>\n",
       "      <td>JFK</td>\n",
       "      <td>184</td>\n",
       "      <td>1/1/2004</td>\n",
       "      <td>5935</td>\n",
       "      <td>BWI</td>\n",
       "      <td>0</td>\n",
       "      <td>4</td>\n",
       "      <td>1</td>\n",
       "      <td>N940CA</td>\n",
       "      <td>ontime</td>\n",
       "    </tr>\n",
       "    <tr>\n",
       "      <th>1</th>\n",
       "      <td>1640</td>\n",
       "      <td>DH</td>\n",
       "      <td>1640</td>\n",
       "      <td>JFK</td>\n",
       "      <td>213</td>\n",
       "      <td>1/1/2004</td>\n",
       "      <td>6155</td>\n",
       "      <td>DCA</td>\n",
       "      <td>0</td>\n",
       "      <td>4</td>\n",
       "      <td>1</td>\n",
       "      <td>N405FJ</td>\n",
       "      <td>ontime</td>\n",
       "    </tr>\n",
       "    <tr>\n",
       "      <th>2</th>\n",
       "      <td>1245</td>\n",
       "      <td>DH</td>\n",
       "      <td>1245</td>\n",
       "      <td>LGA</td>\n",
       "      <td>229</td>\n",
       "      <td>1/1/2004</td>\n",
       "      <td>7208</td>\n",
       "      <td>IAD</td>\n",
       "      <td>0</td>\n",
       "      <td>4</td>\n",
       "      <td>1</td>\n",
       "      <td>N695BR</td>\n",
       "      <td>ontime</td>\n",
       "    </tr>\n",
       "    <tr>\n",
       "      <th>3</th>\n",
       "      <td>1715</td>\n",
       "      <td>DH</td>\n",
       "      <td>1709</td>\n",
       "      <td>LGA</td>\n",
       "      <td>229</td>\n",
       "      <td>1/1/2004</td>\n",
       "      <td>7215</td>\n",
       "      <td>IAD</td>\n",
       "      <td>0</td>\n",
       "      <td>4</td>\n",
       "      <td>1</td>\n",
       "      <td>N662BR</td>\n",
       "      <td>ontime</td>\n",
       "    </tr>\n",
       "    <tr>\n",
       "      <th>4</th>\n",
       "      <td>1039</td>\n",
       "      <td>DH</td>\n",
       "      <td>1035</td>\n",
       "      <td>LGA</td>\n",
       "      <td>229</td>\n",
       "      <td>1/1/2004</td>\n",
       "      <td>7792</td>\n",
       "      <td>IAD</td>\n",
       "      <td>0</td>\n",
       "      <td>4</td>\n",
       "      <td>1</td>\n",
       "      <td>N698BR</td>\n",
       "      <td>ontime</td>\n",
       "    </tr>\n",
       "    <tr>\n",
       "      <th>5</th>\n",
       "      <td>840</td>\n",
       "      <td>DH</td>\n",
       "      <td>839</td>\n",
       "      <td>JFK</td>\n",
       "      <td>228</td>\n",
       "      <td>1/1/2004</td>\n",
       "      <td>7800</td>\n",
       "      <td>IAD</td>\n",
       "      <td>0</td>\n",
       "      <td>4</td>\n",
       "      <td>1</td>\n",
       "      <td>N687BR</td>\n",
       "      <td>ontime</td>\n",
       "    </tr>\n",
       "    <tr>\n",
       "      <th>6</th>\n",
       "      <td>1240</td>\n",
       "      <td>DH</td>\n",
       "      <td>1243</td>\n",
       "      <td>JFK</td>\n",
       "      <td>228</td>\n",
       "      <td>1/1/2004</td>\n",
       "      <td>7806</td>\n",
       "      <td>IAD</td>\n",
       "      <td>0</td>\n",
       "      <td>4</td>\n",
       "      <td>1</td>\n",
       "      <td>N321UE</td>\n",
       "      <td>ontime</td>\n",
       "    </tr>\n",
       "    <tr>\n",
       "      <th>7</th>\n",
       "      <td>1645</td>\n",
       "      <td>DH</td>\n",
       "      <td>1644</td>\n",
       "      <td>JFK</td>\n",
       "      <td>228</td>\n",
       "      <td>1/1/2004</td>\n",
       "      <td>7810</td>\n",
       "      <td>IAD</td>\n",
       "      <td>0</td>\n",
       "      <td>4</td>\n",
       "      <td>1</td>\n",
       "      <td>N301UE</td>\n",
       "      <td>ontime</td>\n",
       "    </tr>\n",
       "    <tr>\n",
       "      <th>8</th>\n",
       "      <td>1715</td>\n",
       "      <td>DH</td>\n",
       "      <td>1710</td>\n",
       "      <td>JFK</td>\n",
       "      <td>228</td>\n",
       "      <td>1/1/2004</td>\n",
       "      <td>7812</td>\n",
       "      <td>IAD</td>\n",
       "      <td>0</td>\n",
       "      <td>4</td>\n",
       "      <td>1</td>\n",
       "      <td>N328UE</td>\n",
       "      <td>ontime</td>\n",
       "    </tr>\n",
       "    <tr>\n",
       "      <th>9</th>\n",
       "      <td>2120</td>\n",
       "      <td>DH</td>\n",
       "      <td>2129</td>\n",
       "      <td>JFK</td>\n",
       "      <td>228</td>\n",
       "      <td>1/1/2004</td>\n",
       "      <td>7814</td>\n",
       "      <td>IAD</td>\n",
       "      <td>0</td>\n",
       "      <td>4</td>\n",
       "      <td>1</td>\n",
       "      <td>N685BR</td>\n",
       "      <td>ontime</td>\n",
       "    </tr>\n",
       "  </tbody>\n",
       "</table>\n",
       "</div>"
      ],
      "text/plain": [
       "   CRS_DEP_TIME CARRIER  DEP_TIME DEST  DISTANCE   FL_DATE  FL_NUM ORIGIN  \\\n",
       "0          1455      OH      1455  JFK       184  1/1/2004    5935    BWI   \n",
       "1          1640      DH      1640  JFK       213  1/1/2004    6155    DCA   \n",
       "2          1245      DH      1245  LGA       229  1/1/2004    7208    IAD   \n",
       "3          1715      DH      1709  LGA       229  1/1/2004    7215    IAD   \n",
       "4          1039      DH      1035  LGA       229  1/1/2004    7792    IAD   \n",
       "5           840      DH       839  JFK       228  1/1/2004    7800    IAD   \n",
       "6          1240      DH      1243  JFK       228  1/1/2004    7806    IAD   \n",
       "7          1645      DH      1644  JFK       228  1/1/2004    7810    IAD   \n",
       "8          1715      DH      1710  JFK       228  1/1/2004    7812    IAD   \n",
       "9          2120      DH      2129  JFK       228  1/1/2004    7814    IAD   \n",
       "\n",
       "   Weather  DAY_WEEK  DAY_OF_MONTH TAIL_NUM Flight Status  \n",
       "0        0         4             1   N940CA        ontime  \n",
       "1        0         4             1   N405FJ        ontime  \n",
       "2        0         4             1   N695BR        ontime  \n",
       "3        0         4             1   N662BR        ontime  \n",
       "4        0         4             1   N698BR        ontime  \n",
       "5        0         4             1   N687BR        ontime  \n",
       "6        0         4             1   N321UE        ontime  \n",
       "7        0         4             1   N301UE        ontime  \n",
       "8        0         4             1   N328UE        ontime  \n",
       "9        0         4             1   N685BR        ontime  "
      ]
     },
     "execution_count": 4,
     "metadata": {},
     "output_type": "execute_result"
    }
   ],
   "source": [
    "#Running the first 10 rows\n",
    "raw_data.head(10)"
   ]
  },
  {
   "cell_type": "code",
   "execution_count": 5,
   "id": "f531a3c1",
   "metadata": {},
   "outputs": [
    {
     "data": {
      "text/plain": [
       "CRS_DEP_TIME     2201\n",
       "CARRIER          2201\n",
       "DEP_TIME         2201\n",
       "DEST             2201\n",
       "DISTANCE         2201\n",
       "FL_DATE          2201\n",
       "FL_NUM           2201\n",
       "ORIGIN           2201\n",
       "Weather          2201\n",
       "DAY_WEEK         2201\n",
       "DAY_OF_MONTH     2201\n",
       "TAIL_NUM         2201\n",
       "Flight Status    2201\n",
       "dtype: int64"
      ]
     },
     "execution_count": 5,
     "metadata": {},
     "output_type": "execute_result"
    }
   ],
   "source": [
    "#Counting the number of values in each column\n",
    "raw_data.count()"
   ]
  },
  {
   "cell_type": "code",
   "execution_count": 6,
   "id": "22e931b0",
   "metadata": {},
   "outputs": [
    {
     "data": {
      "text/plain": [
       "CRS_DEP_TIME     0\n",
       "CARRIER          0\n",
       "DEP_TIME         0\n",
       "DEST             0\n",
       "DISTANCE         0\n",
       "FL_DATE          0\n",
       "FL_NUM           0\n",
       "ORIGIN           0\n",
       "Weather          0\n",
       "DAY_WEEK         0\n",
       "DAY_OF_MONTH     0\n",
       "TAIL_NUM         0\n",
       "Flight Status    0\n",
       "dtype: int64"
      ]
     },
     "execution_count": 6,
     "metadata": {},
     "output_type": "execute_result"
    }
   ],
   "source": [
    "#Checking for null values\n",
    "raw_data.isnull().sum()"
   ]
  },
  {
   "cell_type": "code",
   "execution_count": 7,
   "id": "3f6111f0",
   "metadata": {},
   "outputs": [
    {
     "data": {
      "text/plain": [
       "Text(0.5, 1.0, 'Empty Data')"
      ]
     },
     "execution_count": 7,
     "metadata": {},
     "output_type": "execute_result"
    },
    {
     "data": {
      "image/png": "[encoded data removed]",
      "text/plain": [
       "<Figure size 432x288 with 2 Axes>"
      ]
     },
     "metadata": {
      "needs_background": "light"
     },
     "output_type": "display_data"
    }
   ],
   "source": [
    "#Plotting null values in our dataset by using heatmap\n",
    "sns.heatmap(raw_data.isnull())\n",
    "plt.title(\"Empty Data\")"
   ]
  },
  {
   "cell_type": "markdown",
   "id": "f3993853",
   "metadata": {},
   "source": [
    "There is no missing value in our dataset."
   ]
  },
  {
   "cell_type": "code",
   "execution_count": 8,
   "id": "b7146343",
   "metadata": {},
   "outputs": [
    {
     "name": "stdout",
     "output_type": "stream",
     "text": [
      "<class 'pandas.core.frame.DataFrame'>\n",
      "RangeIndex: 2201 entries, 0 to 2200\n",
      "Data columns (total 13 columns):\n",
      " #   Column         Non-Null Count  Dtype \n",
      "---  ------         --------------  ----- \n",
      " 0   CRS_DEP_TIME   2201 non-null   int64 \n",
      " 1   CARRIER        2201 non-null   object\n",
      " 2   DEP_TIME       2201 non-null   int64 \n",
      " 3   DEST           2201 non-null   object\n",
      " 4   DISTANCE       2201 non-null   int64 \n",
      " 5   FL_DATE        2201 non-null   object\n",
      " 6   FL_NUM         2201 non-null   int64 \n",
      " 7   ORIGIN         2201 non-null   object\n",
      " 8   Weather        2201 non-null   int64 \n",
      " 9   DAY_WEEK       2201 non-null   int64 \n",
      " 10  DAY_OF_MONTH   2201 non-null   int64 \n",
      " 11  TAIL_NUM       2201 non-null   object\n",
      " 12  Flight Status  2201 non-null   object\n",
      "dtypes: int64(7), object(6)\n",
      "memory usage: 223.7+ KB\n"
     ]
    }
   ],
   "source": [
    "#Checking datatype\n",
    "raw_data.info()"
   ]
  },
  {
   "cell_type": "markdown",
   "id": "0f7e03ad",
   "metadata": {},
   "source": [
    "We have 6 string variables and 7 numerical variables in out dataset."
   ]
  },
  {
   "cell_type": "markdown",
   "id": "f6cf7685",
   "metadata": {},
   "source": [
    "### b. Dimensional reduction"
   ]
  },
  {
   "cell_type": "code",
   "execution_count": 9,
   "id": "26c3d04e",
   "metadata": {},
   "outputs": [
    {
     "name": "stdout",
     "output_type": "stream",
     "text": [
      "The number of values for feature CRS_DEP_TIME is: 59\n",
      "The number of values for feature CARRIER is: 8 -- ['CO' 'DH' 'DL' 'MQ' 'OH' 'RU' 'UA' 'US']\n",
      "The number of values for feature DEP_TIME is: 633\n",
      "The number of values for feature DEST is: 3 -- ['EWR' 'JFK' 'LGA']\n",
      "The number of values for feature DISTANCE is: 7 -- [169 184 199 213 214 228 229]\n",
      "The number of values for feature FL_DATE is: 31\n",
      "The number of values for feature FL_NUM is: 103\n",
      "The number of values for feature ORIGIN is: 3 -- ['BWI' 'DCA' 'IAD']\n",
      "The number of values for feature Weather is: 2 -- [0 1]\n",
      "The number of values for feature DAY_WEEK is: 7 -- [1 2 3 4 5 6 7]\n",
      "The number of values for feature DAY_OF_MONTH is: 31\n",
      "The number of values for feature TAIL_NUM is: 549\n",
      "The number of values for feature Flight Status is: 2 -- ['delayed' 'ontime']\n"
     ]
    }
   ],
   "source": [
    "#Investigating all the elements whithin each feature \n",
    "\n",
    "for column in raw_data: #create a loop to go through all columns in our dataset\n",
    "    unique_values = np.unique(raw_data[column]) #take out the unique values\n",
    "    nr_values = len(unique_values) #number of unique values\n",
    "    if nr_values <= 10: #if clause to print the outcomes\n",
    "        print(\"The number of values for feature {} is: {} -- {}\".format(column, nr_values, unique_values))\n",
    "    else:\n",
    "        print(\"The number of values for feature {} is: {}\".format(column, nr_values))"
   ]
  },
  {
   "cell_type": "markdown",
   "id": "7ba9ca55",
   "metadata": {},
   "source": [
    "Based on the outcome, it can be seen that:\n",
    "* The dataset is in only one month January 2004 and we have the DAY_OF_MONTH variable so we can consider removing FL_DATE.\n",
    "* The 2 variables FL_NUM and TAIL_NUM do not seem like having any impact on our prediction models. \n",
    "* Additionally, we do not need DISTANCE because we already have ORIGIN and DEST and we can use these two variables to calculate distance if required. \n",
    "* Furthermore, we will be creating a new dummy variable DELAY_DEP_TIME and checking whether the DEP_TIME (actual departure time) - CRS_DEP_TIME (scheduled departure time) > 0 (YES = 1; NO = 0)."
   ]
  },
  {
   "cell_type": "code",
   "execution_count": 10,
   "id": "bb70b51b",
   "metadata": {},
   "outputs": [],
   "source": [
    "#Creating new DELAY_DEP_TIME column\n",
    "raw_data['DELAY_DEP_TIME'] = raw_data['DEP_TIME'] - raw_data['CRS_DEP_TIME']\n",
    "raw_data.loc[raw_data['DELAY_DEP_TIME'] > 0, 'DELAY_DEP_TIME'] = 1\n",
    "raw_data.loc[raw_data['DELAY_DEP_TIME'] <= 0, 'DELAY_DEP_TIME'] = 0"
   ]
  },
  {
   "cell_type": "code",
   "execution_count": 11,
   "id": "0229b56e",
   "metadata": {},
   "outputs": [],
   "source": [
    "#Droping unnecessary columns FL_DATE, FL_NUM, TAIL_NUM,DEP_TIME in the dataset\n",
    "raw_data.drop(['FL_DATE','FL_NUM','TAIL_NUM','DEP_TIME','DISTANCE'], axis=1, inplace=True)"
   ]
  },
  {
   "cell_type": "code",
   "execution_count": 12,
   "id": "f8ed53a8",
   "metadata": {},
   "outputs": [],
   "source": [
    "#Renaming column names\n",
    "raw_data.rename(columns={'Weather': 'WEATHER', 'Flight Status': 'FLIGHT_STATUS', 'DAY_OF_MONTH': 'DAY_MONTH'}, inplace=True)"
   ]
  },
  {
   "cell_type": "code",
   "execution_count": 13,
   "id": "b04b2282",
   "metadata": {},
   "outputs": [],
   "source": [
    "#Creating hourly bins departure time (original data has 100's of categories) so bining is a musthave to buildup prediction models\n",
    "raw_data.CRS_DEP_TIME = [round(t / 100) for t in raw_data.CRS_DEP_TIME]"
   ]
  },
  {
   "cell_type": "code",
   "execution_count": 14,
   "id": "1fa9c917",
   "metadata": {},
   "outputs": [
    {
     "data": {
      "text/plain": [
       "Index(['CRS_DEP_TIME', 'CARRIER', 'DEST', 'ORIGIN', 'WEATHER', 'DAY_WEEK',\n",
       "       'DAY_MONTH', 'FLIGHT_STATUS', 'DELAY_DEP_TIME'],\n",
       "      dtype='object')"
      ]
     },
     "execution_count": 14,
     "metadata": {},
     "output_type": "execute_result"
    }
   ],
   "source": [
    "#Listing column names\n",
    "raw_data.columns"
   ]
  },
  {
   "cell_type": "code",
   "execution_count": 15,
   "id": "0385f7c6",
   "metadata": {},
   "outputs": [],
   "source": [
    "#Rearranging column order\n",
    "raw_data = raw_data[['CRS_DEP_TIME','DELAY_DEP_TIME', 'CARRIER', 'DEST', 'ORIGIN', 'WEATHER', 'DAY_WEEK',\n",
    "       'DAY_MONTH', 'FLIGHT_STATUS']]"
   ]
  },
  {
   "cell_type": "code",
   "execution_count": 16,
   "id": "52bdcbd7",
   "metadata": {
    "scrolled": true
   },
   "outputs": [
    {
     "data": {
      "text/html": [
       "<div>\n",
       "<style scoped>\n",
       "    .dataframe tbody tr th:only-of-type {\n",
       "        vertical-align: middle;\n",
       "    }\n",
       "\n",
       "    .dataframe tbody tr th {\n",
       "        vertical-align: top;\n",
       "    }\n",
       "\n",
       "    .dataframe thead th {\n",
       "        text-align: right;\n",
       "    }\n",
       "</style>\n",
       "<table border=\"1\" class=\"dataframe\">\n",
       "  <thead>\n",
       "    <tr style=\"text-align: right;\">\n",
       "      <th></th>\n",
       "      <th>CRS_DEP_TIME</th>\n",
       "      <th>DELAY_DEP_TIME</th>\n",
       "      <th>CARRIER</th>\n",
       "      <th>DEST</th>\n",
       "      <th>ORIGIN</th>\n",
       "      <th>WEATHER</th>\n",
       "      <th>DAY_WEEK</th>\n",
       "      <th>DAY_MONTH</th>\n",
       "      <th>FLIGHT_STATUS</th>\n",
       "    </tr>\n",
       "  </thead>\n",
       "  <tbody>\n",
       "    <tr>\n",
       "      <th>0</th>\n",
       "      <td>15</td>\n",
       "      <td>0</td>\n",
       "      <td>OH</td>\n",
       "      <td>JFK</td>\n",
       "      <td>BWI</td>\n",
       "      <td>0</td>\n",
       "      <td>4</td>\n",
       "      <td>1</td>\n",
       "      <td>ontime</td>\n",
       "    </tr>\n",
       "    <tr>\n",
       "      <th>1</th>\n",
       "      <td>16</td>\n",
       "      <td>0</td>\n",
       "      <td>DH</td>\n",
       "      <td>JFK</td>\n",
       "      <td>DCA</td>\n",
       "      <td>0</td>\n",
       "      <td>4</td>\n",
       "      <td>1</td>\n",
       "      <td>ontime</td>\n",
       "    </tr>\n",
       "    <tr>\n",
       "      <th>2</th>\n",
       "      <td>12</td>\n",
       "      <td>0</td>\n",
       "      <td>DH</td>\n",
       "      <td>LGA</td>\n",
       "      <td>IAD</td>\n",
       "      <td>0</td>\n",
       "      <td>4</td>\n",
       "      <td>1</td>\n",
       "      <td>ontime</td>\n",
       "    </tr>\n",
       "    <tr>\n",
       "      <th>3</th>\n",
       "      <td>17</td>\n",
       "      <td>0</td>\n",
       "      <td>DH</td>\n",
       "      <td>LGA</td>\n",
       "      <td>IAD</td>\n",
       "      <td>0</td>\n",
       "      <td>4</td>\n",
       "      <td>1</td>\n",
       "      <td>ontime</td>\n",
       "    </tr>\n",
       "    <tr>\n",
       "      <th>4</th>\n",
       "      <td>10</td>\n",
       "      <td>0</td>\n",
       "      <td>DH</td>\n",
       "      <td>LGA</td>\n",
       "      <td>IAD</td>\n",
       "      <td>0</td>\n",
       "      <td>4</td>\n",
       "      <td>1</td>\n",
       "      <td>ontime</td>\n",
       "    </tr>\n",
       "    <tr>\n",
       "      <th>...</th>\n",
       "      <td>...</td>\n",
       "      <td>...</td>\n",
       "      <td>...</td>\n",
       "      <td>...</td>\n",
       "      <td>...</td>\n",
       "      <td>...</td>\n",
       "      <td>...</td>\n",
       "      <td>...</td>\n",
       "      <td>...</td>\n",
       "    </tr>\n",
       "    <tr>\n",
       "      <th>2196</th>\n",
       "      <td>6</td>\n",
       "      <td>0</td>\n",
       "      <td>RU</td>\n",
       "      <td>EWR</td>\n",
       "      <td>DCA</td>\n",
       "      <td>0</td>\n",
       "      <td>6</td>\n",
       "      <td>31</td>\n",
       "      <td>ontime</td>\n",
       "    </tr>\n",
       "    <tr>\n",
       "      <th>2197</th>\n",
       "      <td>17</td>\n",
       "      <td>0</td>\n",
       "      <td>RU</td>\n",
       "      <td>EWR</td>\n",
       "      <td>IAD</td>\n",
       "      <td>0</td>\n",
       "      <td>6</td>\n",
       "      <td>31</td>\n",
       "      <td>ontime</td>\n",
       "    </tr>\n",
       "    <tr>\n",
       "      <th>2198</th>\n",
       "      <td>16</td>\n",
       "      <td>0</td>\n",
       "      <td>RU</td>\n",
       "      <td>EWR</td>\n",
       "      <td>DCA</td>\n",
       "      <td>0</td>\n",
       "      <td>6</td>\n",
       "      <td>31</td>\n",
       "      <td>ontime</td>\n",
       "    </tr>\n",
       "    <tr>\n",
       "      <th>2199</th>\n",
       "      <td>14</td>\n",
       "      <td>1</td>\n",
       "      <td>RU</td>\n",
       "      <td>EWR</td>\n",
       "      <td>DCA</td>\n",
       "      <td>0</td>\n",
       "      <td>6</td>\n",
       "      <td>31</td>\n",
       "      <td>ontime</td>\n",
       "    </tr>\n",
       "    <tr>\n",
       "      <th>2200</th>\n",
       "      <td>17</td>\n",
       "      <td>1</td>\n",
       "      <td>RU</td>\n",
       "      <td>EWR</td>\n",
       "      <td>DCA</td>\n",
       "      <td>0</td>\n",
       "      <td>6</td>\n",
       "      <td>31</td>\n",
       "      <td>ontime</td>\n",
       "    </tr>\n",
       "  </tbody>\n",
       "</table>\n",
       "<p>2201 rows × 9 columns</p>\n",
       "</div>"
      ],
      "text/plain": [
       "      CRS_DEP_TIME  DELAY_DEP_TIME CARRIER DEST ORIGIN  WEATHER  DAY_WEEK  \\\n",
       "0               15               0      OH  JFK    BWI        0         4   \n",
       "1               16               0      DH  JFK    DCA        0         4   \n",
       "2               12               0      DH  LGA    IAD        0         4   \n",
       "3               17               0      DH  LGA    IAD        0         4   \n",
       "4               10               0      DH  LGA    IAD        0         4   \n",
       "...            ...             ...     ...  ...    ...      ...       ...   \n",
       "2196             6               0      RU  EWR    DCA        0         6   \n",
       "2197            17               0      RU  EWR    IAD        0         6   \n",
       "2198            16               0      RU  EWR    DCA        0         6   \n",
       "2199            14               1      RU  EWR    DCA        0         6   \n",
       "2200            17               1      RU  EWR    DCA        0         6   \n",
       "\n",
       "      DAY_MONTH FLIGHT_STATUS  \n",
       "0             1        ontime  \n",
       "1             1        ontime  \n",
       "2             1        ontime  \n",
       "3             1        ontime  \n",
       "4             1        ontime  \n",
       "...         ...           ...  \n",
       "2196         31        ontime  \n",
       "2197         31        ontime  \n",
       "2198         31        ontime  \n",
       "2199         31        ontime  \n",
       "2200         31        ontime  \n",
       "\n",
       "[2201 rows x 9 columns]"
      ]
     },
     "execution_count": 16,
     "metadata": {},
     "output_type": "execute_result"
    }
   ],
   "source": [
    "# Viewing dataset\n",
    "raw_data"
   ]
  },
  {
   "cell_type": "markdown",
   "id": "f7d64fb8",
   "metadata": {},
   "source": [
    "There are 2201 rows × 9 columns in our dataset. I will be transfering the cleaned dataset to csv file."
   ]
  },
  {
   "cell_type": "code",
   "execution_count": 17,
   "id": "3136ca6c",
   "metadata": {},
   "outputs": [],
   "source": [
    "#Exporting to csv file\n",
    "raw_data.to_csv(r'E:\\Downloads\\FlightDelaysTrainingData.csv', index=False)"
   ]
  },
  {
   "cell_type": "markdown",
   "id": "cf785c5a",
   "metadata": {},
   "source": [
    "### c. Exploratory data analysis"
   ]
  },
  {
   "cell_type": "code",
   "execution_count": 18,
   "id": "e3819270",
   "metadata": {},
   "outputs": [
    {
     "data": {
      "text/plain": [
       "<AxesSubplot:xlabel='FLIGHT_STATUS', ylabel='count'>"
      ]
     },
     "execution_count": 18,
     "metadata": {},
     "output_type": "execute_result"
    },
    {
     "data": {
      "image/png": "[encoded data removed]",
      "text/plain": [
       "<Figure size 432x288 with 1 Axes>"
      ]
     },
     "metadata": {
      "needs_background": "light"
     },
     "output_type": "display_data"
    }
   ],
   "source": [
    "#Investigating the distribution of outcome variable FLIGHT_STATUS\n",
    "sns.countplot(x = 'FLIGHT_STATUS', data = raw_data, palette = 'Set1')"
   ]
  },
  {
   "cell_type": "markdown",
   "id": "ea322467",
   "metadata": {},
   "source": [
    "We can see that the outcome is imbalanced between 'on time' and 'delay'. The class label 'on time' has an abnormally high number of observations compared to the class label 'delayed' (around 5 times). We're gonna solve this problem later to better the model's performance."
   ]
  },
  {
   "cell_type": "code",
   "execution_count": 19,
   "id": "4f7f6bb8",
   "metadata": {},
   "outputs": [
    {
     "data": {
      "image/png": "[encoded data removed]",
      "text/plain": [
       "<Figure size 432x288 with 1 Axes>"
      ]
     },
     "metadata": {
      "needs_background": "light"
     },
     "output_type": "display_data"
    },
    {
     "data": {
      "image/png": "[encoded data removed]",
      "text/plain": [
       "<Figure size 432x288 with 1 Axes>"
      ]
     },
     "metadata": {
      "needs_background": "light"
     },
     "output_type": "display_data"
    },
    {
     "data": {
      "image/png": "[encoded data removed]",
      "text/plain": [
       "<Figure size 432x288 with 1 Axes>"
      ]
     },
     "metadata": {
      "needs_background": "light"
     },
     "output_type": "display_data"
    },
    {
     "data": {
      "image/png": "[encoded data removed]",
      "text/plain": [
       "<Figure size 432x288 with 1 Axes>"
      ]
     },
     "metadata": {
      "needs_background": "light"
     },
     "output_type": "display_data"
    },
    {
     "data": {
      "image/png": "[encoded data removed]",
      "text/plain": [
       "<Figure size 432x288 with 1 Axes>"
      ]
     },
     "metadata": {
      "needs_background": "light"
     },
     "output_type": "display_data"
    },
    {
     "data": {
      "image/png": "[encoded data removed]",
      "text/plain": [
       "<Figure size 432x288 with 1 Axes>"
      ]
     },
     "metadata": {
      "needs_background": "light"
     },
     "output_type": "display_data"
    },
    {
     "data": {
      "image/png": "[encoded data removed]",
      "text/plain": [
       "<Figure size 432x288 with 1 Axes>"
      ]
     },
     "metadata": {
      "needs_background": "light"
     },
     "output_type": "display_data"
    },
    {
     "data": {
      "image/png": "[encoded data removed]",
      "text/plain": [
       "<Figure size 432x288 with 1 Axes>"
      ]
     },
     "metadata": {
      "needs_background": "light"
     },
     "output_type": "display_data"
    }
   ],
   "source": [
    "#Looping through all the features by our outcome variable - see if there is a relationship between predictors and outcome\n",
    "features = ['CRS_DEP_TIME','DELAY_DEP_TIME', 'CARRIER', 'DEST', 'ORIGIN', 'WEATHER', 'DAY_WEEK', 'DAY_MONTH']\n",
    "for f in features:\n",
    "    sns.countplot(x = f, data = raw_data, palette = 'Set1', hue = 'FLIGHT_STATUS')\n",
    "    plt.show()"
   ]
  },
  {
   "cell_type": "markdown",
   "id": "a0bef7bb",
   "metadata": {},
   "source": [
    "When we compare the count plot of each feature with the distribution of the outcome variable FLIGHT_STATUS. According to the shape of the distribution, we can guess that 'CRS_DEP_TIME', 'CARRIER', 'DEST', 'ORIGIN', and 'DAY_WEEK' can have greater impacts on flight delay prediction."
   ]
  },
  {
   "cell_type": "code",
   "execution_count": 20,
   "id": "5fadf09b",
   "metadata": {},
   "outputs": [
    {
     "data": {
      "text/html": [
       "<div>\n",
       "<style scoped>\n",
       "    .dataframe tbody tr th:only-of-type {\n",
       "        vertical-align: middle;\n",
       "    }\n",
       "\n",
       "    .dataframe tbody tr th {\n",
       "        vertical-align: top;\n",
       "    }\n",
       "\n",
       "    .dataframe thead th {\n",
       "        text-align: right;\n",
       "    }\n",
       "</style>\n",
       "<table border=\"1\" class=\"dataframe\">\n",
       "  <thead>\n",
       "    <tr style=\"text-align: right;\">\n",
       "      <th>FLIGHT_STATUS</th>\n",
       "      <th>delayed</th>\n",
       "      <th>ontime</th>\n",
       "    </tr>\n",
       "    <tr>\n",
       "      <th>DAY_WEEK</th>\n",
       "      <th></th>\n",
       "      <th></th>\n",
       "    </tr>\n",
       "  </thead>\n",
       "  <tbody>\n",
       "    <tr>\n",
       "      <th>1</th>\n",
       "      <td>84</td>\n",
       "      <td>224</td>\n",
       "    </tr>\n",
       "    <tr>\n",
       "      <th>2</th>\n",
       "      <td>63</td>\n",
       "      <td>244</td>\n",
       "    </tr>\n",
       "    <tr>\n",
       "      <th>3</th>\n",
       "      <td>57</td>\n",
       "      <td>263</td>\n",
       "    </tr>\n",
       "    <tr>\n",
       "      <th>4</th>\n",
       "      <td>57</td>\n",
       "      <td>315</td>\n",
       "    </tr>\n",
       "    <tr>\n",
       "      <th>5</th>\n",
       "      <td>75</td>\n",
       "      <td>316</td>\n",
       "    </tr>\n",
       "    <tr>\n",
       "      <th>6</th>\n",
       "      <td>24</td>\n",
       "      <td>226</td>\n",
       "    </tr>\n",
       "    <tr>\n",
       "      <th>7</th>\n",
       "      <td>68</td>\n",
       "      <td>185</td>\n",
       "    </tr>\n",
       "  </tbody>\n",
       "</table>\n",
       "</div>"
      ],
      "text/plain": [
       "FLIGHT_STATUS  delayed  ontime\n",
       "DAY_WEEK                      \n",
       "1                   84     224\n",
       "2                   63     244\n",
       "3                   57     263\n",
       "4                   57     315\n",
       "5                   75     316\n",
       "6                   24     226\n",
       "7                   68     185"
      ]
     },
     "execution_count": 20,
     "metadata": {},
     "output_type": "execute_result"
    }
   ],
   "source": [
    "#Comparing FLIGHT_STATUS with DAY_WEEK\n",
    "pd.crosstab(raw_data.DAY_WEEK, raw_data.FLIGHT_STATUS)"
   ]
  },
  {
   "cell_type": "markdown",
   "id": "1f16d802",
   "metadata": {},
   "source": [
    "Monday and Friday have the most flights delayed, on the other hand, Saturday has the least delay."
   ]
  },
  {
   "cell_type": "code",
   "execution_count": 21,
   "id": "f218e10d",
   "metadata": {},
   "outputs": [
    {
     "data": {
      "text/html": [
       "<div>\n",
       "<style scoped>\n",
       "    .dataframe tbody tr th:only-of-type {\n",
       "        vertical-align: middle;\n",
       "    }\n",
       "\n",
       "    .dataframe tbody tr th {\n",
       "        vertical-align: top;\n",
       "    }\n",
       "\n",
       "    .dataframe thead th {\n",
       "        text-align: right;\n",
       "    }\n",
       "</style>\n",
       "<table border=\"1\" class=\"dataframe\">\n",
       "  <thead>\n",
       "    <tr style=\"text-align: right;\">\n",
       "      <th>FLIGHT_STATUS</th>\n",
       "      <th>delayed</th>\n",
       "      <th>ontime</th>\n",
       "    </tr>\n",
       "    <tr>\n",
       "      <th>CARRIER</th>\n",
       "      <th></th>\n",
       "      <th></th>\n",
       "    </tr>\n",
       "  </thead>\n",
       "  <tbody>\n",
       "    <tr>\n",
       "      <th>CO</th>\n",
       "      <td>26</td>\n",
       "      <td>68</td>\n",
       "    </tr>\n",
       "    <tr>\n",
       "      <th>DH</th>\n",
       "      <td>137</td>\n",
       "      <td>414</td>\n",
       "    </tr>\n",
       "    <tr>\n",
       "      <th>DL</th>\n",
       "      <td>47</td>\n",
       "      <td>341</td>\n",
       "    </tr>\n",
       "    <tr>\n",
       "      <th>MQ</th>\n",
       "      <td>80</td>\n",
       "      <td>215</td>\n",
       "    </tr>\n",
       "    <tr>\n",
       "      <th>OH</th>\n",
       "      <td>4</td>\n",
       "      <td>26</td>\n",
       "    </tr>\n",
       "    <tr>\n",
       "      <th>RU</th>\n",
       "      <td>94</td>\n",
       "      <td>314</td>\n",
       "    </tr>\n",
       "    <tr>\n",
       "      <th>UA</th>\n",
       "      <td>5</td>\n",
       "      <td>26</td>\n",
       "    </tr>\n",
       "    <tr>\n",
       "      <th>US</th>\n",
       "      <td>35</td>\n",
       "      <td>369</td>\n",
       "    </tr>\n",
       "  </tbody>\n",
       "</table>\n",
       "</div>"
      ],
      "text/plain": [
       "FLIGHT_STATUS  delayed  ontime\n",
       "CARRIER                       \n",
       "CO                  26      68\n",
       "DH                 137     414\n",
       "DL                  47     341\n",
       "MQ                  80     215\n",
       "OH                   4      26\n",
       "RU                  94     314\n",
       "UA                   5      26\n",
       "US                  35     369"
      ]
     },
     "execution_count": 21,
     "metadata": {},
     "output_type": "execute_result"
    }
   ],
   "source": [
    "#Comparing FLIGHT_STATUS with CARRIER\n",
    "pd.crosstab(raw_data.CARRIER, raw_data.FLIGHT_STATUS)"
   ]
  },
  {
   "cell_type": "markdown",
   "id": "115f47b1",
   "metadata": {},
   "source": [
    "The three carriers having the highest numbers of delayed flights are DH, RU, and CO."
   ]
  },
  {
   "cell_type": "code",
   "execution_count": 22,
   "id": "265fea9b",
   "metadata": {},
   "outputs": [
    {
     "data": {
      "text/html": [
       "<div>\n",
       "<style scoped>\n",
       "    .dataframe tbody tr th:only-of-type {\n",
       "        vertical-align: middle;\n",
       "    }\n",
       "\n",
       "    .dataframe tbody tr th {\n",
       "        vertical-align: top;\n",
       "    }\n",
       "\n",
       "    .dataframe thead th {\n",
       "        text-align: right;\n",
       "    }\n",
       "</style>\n",
       "<table border=\"1\" class=\"dataframe\">\n",
       "  <thead>\n",
       "    <tr style=\"text-align: right;\">\n",
       "      <th>FLIGHT_STATUS</th>\n",
       "      <th>delayed</th>\n",
       "      <th>ontime</th>\n",
       "    </tr>\n",
       "    <tr>\n",
       "      <th>WEATHER</th>\n",
       "      <th></th>\n",
       "      <th></th>\n",
       "    </tr>\n",
       "  </thead>\n",
       "  <tbody>\n",
       "    <tr>\n",
       "      <th>0</th>\n",
       "      <td>396</td>\n",
       "      <td>1773</td>\n",
       "    </tr>\n",
       "    <tr>\n",
       "      <th>1</th>\n",
       "      <td>32</td>\n",
       "      <td>0</td>\n",
       "    </tr>\n",
       "  </tbody>\n",
       "</table>\n",
       "</div>"
      ],
      "text/plain": [
       "FLIGHT_STATUS  delayed  ontime\n",
       "WEATHER                       \n",
       "0                  396    1773\n",
       "1                   32       0"
      ]
     },
     "execution_count": 22,
     "metadata": {},
     "output_type": "execute_result"
    }
   ],
   "source": [
    "#Comparing FLIGHT_STATUS with WEATHER\n",
    "pd.crosstab(raw_data.WEATHER, raw_data.FLIGHT_STATUS)"
   ]
  },
  {
   "cell_type": "markdown",
   "id": "fccd9a03",
   "metadata": {},
   "source": [
    "When the weather is bad, the flight are going to be postponed."
   ]
  },
  {
   "cell_type": "code",
   "execution_count": 23,
   "id": "8bc66117",
   "metadata": {},
   "outputs": [
    {
     "data": {
      "text/html": [
       "<div>\n",
       "<style scoped>\n",
       "    .dataframe tbody tr th:only-of-type {\n",
       "        vertical-align: middle;\n",
       "    }\n",
       "\n",
       "    .dataframe tbody tr th {\n",
       "        vertical-align: top;\n",
       "    }\n",
       "\n",
       "    .dataframe thead th {\n",
       "        text-align: right;\n",
       "    }\n",
       "</style>\n",
       "<table border=\"1\" class=\"dataframe\">\n",
       "  <thead>\n",
       "    <tr style=\"text-align: right;\">\n",
       "      <th>FLIGHT_STATUS</th>\n",
       "      <th>delayed</th>\n",
       "      <th>ontime</th>\n",
       "    </tr>\n",
       "    <tr>\n",
       "      <th>CRS_DEP_TIME</th>\n",
       "      <th></th>\n",
       "      <th></th>\n",
       "    </tr>\n",
       "  </thead>\n",
       "  <tbody>\n",
       "    <tr>\n",
       "      <th>6</th>\n",
       "      <td>16</td>\n",
       "      <td>110</td>\n",
       "    </tr>\n",
       "    <tr>\n",
       "      <th>7</th>\n",
       "      <td>23</td>\n",
       "      <td>110</td>\n",
       "    </tr>\n",
       "    <tr>\n",
       "      <th>8</th>\n",
       "      <td>26</td>\n",
       "      <td>138</td>\n",
       "    </tr>\n",
       "    <tr>\n",
       "      <th>9</th>\n",
       "      <td>11</td>\n",
       "      <td>97</td>\n",
       "    </tr>\n",
       "    <tr>\n",
       "      <th>10</th>\n",
       "      <td>11</td>\n",
       "      <td>89</td>\n",
       "    </tr>\n",
       "    <tr>\n",
       "      <th>11</th>\n",
       "      <td>6</td>\n",
       "      <td>62</td>\n",
       "    </tr>\n",
       "    <tr>\n",
       "      <th>12</th>\n",
       "      <td>23</td>\n",
       "      <td>119</td>\n",
       "    </tr>\n",
       "    <tr>\n",
       "      <th>13</th>\n",
       "      <td>16</td>\n",
       "      <td>116</td>\n",
       "    </tr>\n",
       "    <tr>\n",
       "      <th>14</th>\n",
       "      <td>21</td>\n",
       "      <td>102</td>\n",
       "    </tr>\n",
       "    <tr>\n",
       "      <th>15</th>\n",
       "      <td>84</td>\n",
       "      <td>208</td>\n",
       "    </tr>\n",
       "    <tr>\n",
       "      <th>16</th>\n",
       "      <td>32</td>\n",
       "      <td>146</td>\n",
       "    </tr>\n",
       "    <tr>\n",
       "      <th>17</th>\n",
       "      <td>63</td>\n",
       "      <td>178</td>\n",
       "    </tr>\n",
       "    <tr>\n",
       "      <th>18</th>\n",
       "      <td>13</td>\n",
       "      <td>72</td>\n",
       "    </tr>\n",
       "    <tr>\n",
       "      <th>19</th>\n",
       "      <td>38</td>\n",
       "      <td>81</td>\n",
       "    </tr>\n",
       "    <tr>\n",
       "      <th>20</th>\n",
       "      <td>9</td>\n",
       "      <td>44</td>\n",
       "    </tr>\n",
       "    <tr>\n",
       "      <th>21</th>\n",
       "      <td>36</td>\n",
       "      <td>101</td>\n",
       "    </tr>\n",
       "  </tbody>\n",
       "</table>\n",
       "</div>"
      ],
      "text/plain": [
       "FLIGHT_STATUS  delayed  ontime\n",
       "CRS_DEP_TIME                  \n",
       "6                   16     110\n",
       "7                   23     110\n",
       "8                   26     138\n",
       "9                   11      97\n",
       "10                  11      89\n",
       "11                   6      62\n",
       "12                  23     119\n",
       "13                  16     116\n",
       "14                  21     102\n",
       "15                  84     208\n",
       "16                  32     146\n",
       "17                  63     178\n",
       "18                  13      72\n",
       "19                  38      81\n",
       "20                   9      44\n",
       "21                  36     101"
      ]
     },
     "execution_count": 23,
     "metadata": {},
     "output_type": "execute_result"
    }
   ],
   "source": [
    "#Comparing FLIGHT_STATUS with CRS_DEP_TIME\n",
    "pd.crosstab(raw_data.CRS_DEP_TIME, raw_data.FLIGHT_STATUS)"
   ]
  },
  {
   "cell_type": "markdown",
   "id": "ffa47051",
   "metadata": {},
   "source": [
    "There are more delayed flights in pm time than am time."
   ]
  },
  {
   "cell_type": "markdown",
   "id": "0a6e2c4f",
   "metadata": {},
   "source": [
    "### d. Data balancing"
   ]
  },
  {
   "cell_type": "markdown",
   "id": "9b8c9d77",
   "metadata": {},
   "source": [
    "In this section, we will use RandomOverSampler to balance the data."
   ]
  },
  {
   "cell_type": "code",
   "execution_count": 24,
   "id": "57a528eb",
   "metadata": {},
   "outputs": [],
   "source": [
    "#Creating X and y data matrices (X = predictor variables, y = outcome variable)\n",
    "X=raw_data.drop(labels=['FLIGHT_STATUS'], axis=1)\n",
    "y=raw_data['FLIGHT_STATUS']"
   ]
  },
  {
   "cell_type": "code",
   "execution_count": 25,
   "id": "2122582a",
   "metadata": {},
   "outputs": [
    {
     "data": {
      "image/png": "[encoded data removed]",
      "text/plain": [
       "<Figure size 432x288 with 1 Axes>"
      ]
     },
     "metadata": {},
     "output_type": "display_data"
    }
   ],
   "source": [
    "#Showing the piechart of the outcome variable FLIGHT_STATUS\n",
    "ax = y.value_counts().plot.pie(autopct='%.2f')\n",
    "_ = ax.set_title(\"Flight Status\")"
   ]
  },
  {
   "cell_type": "markdown",
   "id": "7dc9e821",
   "metadata": {},
   "source": [
    "By plotting the distribution of outcome variable FLIGHT_STATUS, the majority class is 80.55% and the minority class is only 19.45%. When the records of the 'ontime' class are much more than the other class, our classifier may get biased towards the prediction."
   ]
  },
  {
   "cell_type": "code",
   "execution_count": 26,
   "id": "fb481af7",
   "metadata": {},
   "outputs": [],
   "source": [
    "#Handleing imbalanced data by using RandomOverSampler\n",
    "ros = RandomOverSampler(sampling_strategy=1, random_state=1) #sampling_strategy=1 means 50% for each class\n",
    "X_res, y_res = ros.fit_resample(X, y)"
   ]
  },
  {
   "cell_type": "markdown",
   "id": "06b49b92",
   "metadata": {},
   "source": [
    "This RandomOverSampler technique is used to upsample the minority class. "
   ]
  },
  {
   "cell_type": "code",
   "execution_count": 27,
   "id": "b4f9b0c0",
   "metadata": {},
   "outputs": [
    {
     "data": {
      "image/png": "[encoded data removed]",
      "text/plain": [
       "<Figure size 432x288 with 1 Axes>"
      ]
     },
     "metadata": {},
     "output_type": "display_data"
    }
   ],
   "source": [
    "#Plotting the outcome of RandomOverSampler\n",
    "ax = y_res.value_counts().plot.pie(autopct='%.2f')\n",
    "_ = ax.set_title(\"Over-sampling\")"
   ]
  },
  {
   "cell_type": "code",
   "execution_count": 28,
   "id": "a7795703",
   "metadata": {},
   "outputs": [
    {
     "data": {
      "text/plain": [
       "((3546, 8), (3546,))"
      ]
     },
     "execution_count": 28,
     "metadata": {},
     "output_type": "execute_result"
    }
   ],
   "source": [
    "# Viewing the shape of X and y\n",
    "X_res.shape, y_res.shape"
   ]
  },
  {
   "cell_type": "markdown",
   "id": "d3205468",
   "metadata": {},
   "source": [
    "Now, we have a balanced outcome with 50% of each class."
   ]
  },
  {
   "cell_type": "code",
   "execution_count": 29,
   "id": "c3bcc4c8",
   "metadata": {},
   "outputs": [
    {
     "name": "stdout",
     "output_type": "stream",
     "text": [
      "The number of values for feature CRS_DEP_TIME is: 16\n",
      "The number of values for feature DELAY_DEP_TIME is: 2 -- [0 1]\n",
      "The number of values for feature CARRIER is: 8 -- ['CO' 'DH' 'DL' 'MQ' 'OH' 'RU' 'UA' 'US']\n",
      "The number of values for feature DEST is: 3 -- ['EWR' 'JFK' 'LGA']\n",
      "The number of values for feature ORIGIN is: 3 -- ['BWI' 'DCA' 'IAD']\n",
      "The number of values for feature WEATHER is: 2 -- [0 1]\n",
      "The number of values for feature DAY_WEEK is: 7 -- [1 2 3 4 5 6 7]\n",
      "The number of values for feature DAY_MONTH is: 31\n"
     ]
    }
   ],
   "source": [
    "# Investigating all the elements whithin each feature in X_res to match them with the raw_data set\n",
    "for column in X_res:\n",
    "    unique_values = np.unique(X_res[column])\n",
    "    nr_values = len(unique_values)\n",
    "    if nr_values <= 10:\n",
    "        print(\"The number of values for feature {} is: {} -- {}\".format(column, nr_values, unique_values))\n",
    "    else:\n",
    "        print(\"The number of values for feature {} is: {}\".format(column, nr_values))"
   ]
  },
  {
   "cell_type": "markdown",
   "id": "14e94c83",
   "metadata": {},
   "source": [
    "The unique values in each feature still remain the same with those in the original set."
   ]
  },
  {
   "cell_type": "markdown",
   "id": "5248a3b7",
   "metadata": {},
   "source": [
    "### e. Data conversion"
   ]
  },
  {
   "cell_type": "markdown",
   "id": "340346a7",
   "metadata": {},
   "source": [
    "In this section, we are going to convert categorical variables into dummy variables because some algorithms that we will use later cannot comply with non-numerical data."
   ]
  },
  {
   "cell_type": "code",
   "execution_count": 30,
   "id": "bb4f42e8",
   "metadata": {},
   "outputs": [],
   "source": [
    "#Converting categorical variables into numeric variables\n",
    "X_dummy = pd.get_dummies(X_res, columns = features)"
   ]
  },
  {
   "cell_type": "code",
   "execution_count": 31,
   "id": "b352204c",
   "metadata": {},
   "outputs": [
    {
     "data": {
      "text/plain": [
       "((3546, 8), (3546, 72))"
      ]
     },
     "execution_count": 31,
     "metadata": {},
     "output_type": "execute_result"
    }
   ],
   "source": [
    "X_res.shape, X_dummy.shape"
   ]
  },
  {
   "cell_type": "code",
   "execution_count": 32,
   "id": "000864f7",
   "metadata": {},
   "outputs": [
    {
     "name": "stdout",
     "output_type": "stream",
     "text": [
      "<class 'pandas.core.frame.DataFrame'>\n",
      "RangeIndex: 3546 entries, 0 to 3545\n",
      "Data columns (total 72 columns):\n",
      " #   Column            Non-Null Count  Dtype\n",
      "---  ------            --------------  -----\n",
      " 0   CRS_DEP_TIME_6    3546 non-null   uint8\n",
      " 1   CRS_DEP_TIME_7    3546 non-null   uint8\n",
      " 2   CRS_DEP_TIME_8    3546 non-null   uint8\n",
      " 3   CRS_DEP_TIME_9    3546 non-null   uint8\n",
      " 4   CRS_DEP_TIME_10   3546 non-null   uint8\n",
      " 5   CRS_DEP_TIME_11   3546 non-null   uint8\n",
      " 6   CRS_DEP_TIME_12   3546 non-null   uint8\n",
      " 7   CRS_DEP_TIME_13   3546 non-null   uint8\n",
      " 8   CRS_DEP_TIME_14   3546 non-null   uint8\n",
      " 9   CRS_DEP_TIME_15   3546 non-null   uint8\n",
      " 10  CRS_DEP_TIME_16   3546 non-null   uint8\n",
      " 11  CRS_DEP_TIME_17   3546 non-null   uint8\n",
      " 12  CRS_DEP_TIME_18   3546 non-null   uint8\n",
      " 13  CRS_DEP_TIME_19   3546 non-null   uint8\n",
      " 14  CRS_DEP_TIME_20   3546 non-null   uint8\n",
      " 15  CRS_DEP_TIME_21   3546 non-null   uint8\n",
      " 16  DELAY_DEP_TIME_0  3546 non-null   uint8\n",
      " 17  DELAY_DEP_TIME_1  3546 non-null   uint8\n",
      " 18  CARRIER_CO        3546 non-null   uint8\n",
      " 19  CARRIER_DH        3546 non-null   uint8\n",
      " 20  CARRIER_DL        3546 non-null   uint8\n",
      " 21  CARRIER_MQ        3546 non-null   uint8\n",
      " 22  CARRIER_OH        3546 non-null   uint8\n",
      " 23  CARRIER_RU        3546 non-null   uint8\n",
      " 24  CARRIER_UA        3546 non-null   uint8\n",
      " 25  CARRIER_US        3546 non-null   uint8\n",
      " 26  DEST_EWR          3546 non-null   uint8\n",
      " 27  DEST_JFK          3546 non-null   uint8\n",
      " 28  DEST_LGA          3546 non-null   uint8\n",
      " 29  ORIGIN_BWI        3546 non-null   uint8\n",
      " 30  ORIGIN_DCA        3546 non-null   uint8\n",
      " 31  ORIGIN_IAD        3546 non-null   uint8\n",
      " 32  WEATHER_0         3546 non-null   uint8\n",
      " 33  WEATHER_1         3546 non-null   uint8\n",
      " 34  DAY_WEEK_1        3546 non-null   uint8\n",
      " 35  DAY_WEEK_2        3546 non-null   uint8\n",
      " 36  DAY_WEEK_3        3546 non-null   uint8\n",
      " 37  DAY_WEEK_4        3546 non-null   uint8\n",
      " 38  DAY_WEEK_5        3546 non-null   uint8\n",
      " 39  DAY_WEEK_6        3546 non-null   uint8\n",
      " 40  DAY_WEEK_7        3546 non-null   uint8\n",
      " 41  DAY_MONTH_1       3546 non-null   uint8\n",
      " 42  DAY_MONTH_2       3546 non-null   uint8\n",
      " 43  DAY_MONTH_3       3546 non-null   uint8\n",
      " 44  DAY_MONTH_4       3546 non-null   uint8\n",
      " 45  DAY_MONTH_5       3546 non-null   uint8\n",
      " 46  DAY_MONTH_6       3546 non-null   uint8\n",
      " 47  DAY_MONTH_7       3546 non-null   uint8\n",
      " 48  DAY_MONTH_8       3546 non-null   uint8\n",
      " 49  DAY_MONTH_9       3546 non-null   uint8\n",
      " 50  DAY_MONTH_10      3546 non-null   uint8\n",
      " 51  DAY_MONTH_11      3546 non-null   uint8\n",
      " 52  DAY_MONTH_12      3546 non-null   uint8\n",
      " 53  DAY_MONTH_13      3546 non-null   uint8\n",
      " 54  DAY_MONTH_14      3546 non-null   uint8\n",
      " 55  DAY_MONTH_15      3546 non-null   uint8\n",
      " 56  DAY_MONTH_16      3546 non-null   uint8\n",
      " 57  DAY_MONTH_17      3546 non-null   uint8\n",
      " 58  DAY_MONTH_18      3546 non-null   uint8\n",
      " 59  DAY_MONTH_19      3546 non-null   uint8\n",
      " 60  DAY_MONTH_20      3546 non-null   uint8\n",
      " 61  DAY_MONTH_21      3546 non-null   uint8\n",
      " 62  DAY_MONTH_22      3546 non-null   uint8\n",
      " 63  DAY_MONTH_23      3546 non-null   uint8\n",
      " 64  DAY_MONTH_24      3546 non-null   uint8\n",
      " 65  DAY_MONTH_25      3546 non-null   uint8\n",
      " 66  DAY_MONTH_26      3546 non-null   uint8\n",
      " 67  DAY_MONTH_27      3546 non-null   uint8\n",
      " 68  DAY_MONTH_28      3546 non-null   uint8\n",
      " 69  DAY_MONTH_29      3546 non-null   uint8\n",
      " 70  DAY_MONTH_30      3546 non-null   uint8\n",
      " 71  DAY_MONTH_31      3546 non-null   uint8\n",
      "dtypes: uint8(72)\n",
      "memory usage: 249.5 KB\n"
     ]
    }
   ],
   "source": [
    "X_dummy.info()"
   ]
  },
  {
   "cell_type": "code",
   "execution_count": 33,
   "id": "f6df1e00",
   "metadata": {},
   "outputs": [],
   "source": [
    "#Converting outcome variable to binary type\n",
    "y_res[y_res == 'delayed'] = 1\n",
    "y_res[y_res == 'ontime'] = 0\n",
    "y_dummy = y_res\n",
    "y_dummy = y_dummy.astype(int)"
   ]
  },
  {
   "cell_type": "code",
   "execution_count": 34,
   "id": "a250da65",
   "metadata": {},
   "outputs": [
    {
     "data": {
      "text/plain": [
       "(3546,)"
      ]
     },
     "execution_count": 34,
     "metadata": {},
     "output_type": "execute_result"
    }
   ],
   "source": [
    "y_dummy.shape"
   ]
  },
  {
   "cell_type": "code",
   "execution_count": 35,
   "id": "aac4d15b",
   "metadata": {},
   "outputs": [
    {
     "name": "stdout",
     "output_type": "stream",
     "text": [
      "<class 'pandas.core.series.Series'>\n",
      "RangeIndex: 3546 entries, 0 to 3545\n",
      "Series name: FLIGHT_STATUS\n",
      "Non-Null Count  Dtype\n",
      "--------------  -----\n",
      "3546 non-null   int32\n",
      "dtypes: int32(1)\n",
      "memory usage: 14.0 KB\n"
     ]
    }
   ],
   "source": [
    "y_dummy.info()"
   ]
  },
  {
   "cell_type": "markdown",
   "id": "81a1e112",
   "metadata": {},
   "source": [
    "After conducting data balancing and data conversion, we have 72 predictors and 1 outcome variable of 3546 observations."
   ]
  },
  {
   "cell_type": "markdown",
   "id": "209cf09e",
   "metadata": {},
   "source": [
    "### e. Feature selection"
   ]
  },
  {
   "cell_type": "markdown",
   "id": "2aa7c772",
   "metadata": {},
   "source": [
    "There are 72 predictors, and we know that not all of those features  will play a significant role in the prediction model. Therefore, we will pick only important ones for data modelling."
   ]
  },
  {
   "cell_type": "code",
   "execution_count": 36,
   "id": "abbc857a",
   "metadata": {},
   "outputs": [
    {
     "data": {
      "text/html": [
       "<style>#sk-container-id-1 {color: black;background-color: white;}#sk-container-id-1 pre{padding: 0;}#sk-container-id-1 div.sk-toggleable {background-color: white;}#sk-container-id-1 label.sk-toggleable__label {cursor: pointer;display: block;width: 100%;margin-bottom: 0;padding: 0.3em;box-sizing: border-box;text-align: center;}#sk-container-id-1 label.sk-toggleable__label-arrow:before {content: \"▸\";float: left;margin-right: 0.25em;color: #696969;}#sk-container-id-1 label.sk-toggleable__label-arrow:hover:before {color: black;}#sk-container-id-1 div.sk-estimator:hover label.sk-toggleable__label-arrow:before {color: black;}#sk-container-id-1 div.sk-toggleable__content {max-height: 0;max-width: 0;overflow: hidden;text-align: left;background-color: #f0f8ff;}#sk-container-id-1 div.sk-toggleable__content pre {margin: 0.2em;color: black;border-radius: 0.25em;background-color: #f0f8ff;}#sk-container-id-1 input.sk-toggleable__control:checked~div.sk-toggleable__content {max-height: 200px;max-width: 100%;overflow: auto;}#sk-container-id-1 input.sk-toggleable__control:checked~label.sk-toggleable__label-arrow:before {content: \"▾\";}#sk-container-id-1 div.sk-estimator input.sk-toggleable__control:checked~label.sk-toggleable__label {background-color: #d4ebff;}#sk-container-id-1 div.sk-label input.sk-toggleable__control:checked~label.sk-toggleable__label {background-color: #d4ebff;}#sk-container-id-1 input.sk-hidden--visually {border: 0;clip: rect(1px 1px 1px 1px);clip: rect(1px, 1px, 1px, 1px);height: 1px;margin: -1px;overflow: hidden;padding: 0;position: absolute;width: 1px;}#sk-container-id-1 div.sk-estimator {font-family: monospace;background-color: #f0f8ff;border: 1px dotted black;border-radius: 0.25em;box-sizing: border-box;margin-bottom: 0.5em;}#sk-container-id-1 div.sk-estimator:hover {background-color: #d4ebff;}#sk-container-id-1 div.sk-parallel-item::after {content: \"\";width: 100%;border-bottom: 1px solid gray;flex-grow: 1;}#sk-container-id-1 div.sk-label:hover label.sk-toggleable__label {background-color: #d4ebff;}#sk-container-id-1 div.sk-serial::before {content: \"\";position: absolute;border-left: 1px solid gray;box-sizing: border-box;top: 0;bottom: 0;left: 50%;z-index: 0;}#sk-container-id-1 div.sk-serial {display: flex;flex-direction: column;align-items: center;background-color: white;padding-right: 0.2em;padding-left: 0.2em;position: relative;}#sk-container-id-1 div.sk-item {position: relative;z-index: 1;}#sk-container-id-1 div.sk-parallel {display: flex;align-items: stretch;justify-content: center;background-color: white;position: relative;}#sk-container-id-1 div.sk-item::before, #sk-container-id-1 div.sk-parallel-item::before {content: \"\";position: absolute;border-left: 1px solid gray;box-sizing: border-box;top: 0;bottom: 0;left: 50%;z-index: -1;}#sk-container-id-1 div.sk-parallel-item {display: flex;flex-direction: column;z-index: 1;position: relative;background-color: white;}#sk-container-id-1 div.sk-parallel-item:first-child::after {align-self: flex-end;width: 50%;}#sk-container-id-1 div.sk-parallel-item:last-child::after {align-self: flex-start;width: 50%;}#sk-container-id-1 div.sk-parallel-item:only-child::after {width: 0;}#sk-container-id-1 div.sk-dashed-wrapped {border: 1px dashed gray;margin: 0 0.4em 0.5em 0.4em;box-sizing: border-box;padding-bottom: 0.4em;background-color: white;}#sk-container-id-1 div.sk-label label {font-family: monospace;font-weight: bold;display: inline-block;line-height: 1.2em;}#sk-container-id-1 div.sk-label-container {text-align: center;}#sk-container-id-1 div.sk-container {/* jupyter's `normalize.less` sets `[hidden] { display: none; }` but bootstrap.min.css set `[hidden] { display: none !important; }` so we also need the `!important` here to be able to override the default hidden behavior on the sphinx rendered scikit-learn.org. See: https://github.com/scikit-learn/scikit-learn/issues/21755 */display: inline-block !important;position: relative;}#sk-container-id-1 div.sk-text-repr-fallback {display: none;}</style><div id=\"sk-container-id-1\" class=\"sk-top-container\"><div class=\"sk-text-repr-fallback\"><pre>DecisionTreeClassifier(criterion=&#x27;entropy&#x27;, max_depth=10, random_state=1)</pre><b>In a Jupyter environment, please rerun this cell to show the HTML representation or trust the notebook. <br />On GitHub, the HTML representation is unable to render, please try loading this page with nbviewer.org.</b></div><div class=\"sk-container\" hidden><div class=\"sk-item\"><div class=\"sk-estimator sk-toggleable\"><input class=\"sk-toggleable__control sk-hidden--visually\" id=\"sk-estimator-id-1\" type=\"checkbox\" checked><label for=\"sk-estimator-id-1\" class=\"sk-toggleable__label sk-toggleable__label-arrow\">DecisionTreeClassifier</label><div class=\"sk-toggleable__content\"><pre>DecisionTreeClassifier(criterion=&#x27;entropy&#x27;, max_depth=10, random_state=1)</pre></div></div></div></div></div>"
      ],
      "text/plain": [
       "DecisionTreeClassifier(criterion='entropy', max_depth=10, random_state=1)"
      ]
     },
     "execution_count": 36,
     "metadata": {},
     "output_type": "execute_result"
    }
   ],
   "source": [
    "#Running a Tree-based estimators (i.e. decision trees & random forests)\n",
    "dt = DecisionTreeClassifier(random_state=1, criterion = 'entropy', max_depth = 10)\n",
    "dt.fit(X_dummy,y_dummy)\n",
    "\n",
    "# If you want to learn how Decesion Trees work, read here: https://www.datacamp.com/community/tutorials/decision-tree-classification-python\n",
    "# Official Doc: https://scikit-learn.org/stable/modules/generated/sklearn.tree.DecisionTreeClassifier.html"
   ]
  },
  {
   "cell_type": "code",
   "execution_count": 37,
   "id": "05c36422",
   "metadata": {},
   "outputs": [
    {
     "name": "stdout",
     "output_type": "stream",
     "text": [
      "The feature importance for CRS_DEP_TIME_6 is : 0.009534130431644574\n",
      "The feature importance for CRS_DEP_TIME_7 is : 0.015729882493374505\n",
      "The feature importance for CRS_DEP_TIME_8 is : 0.014018431340882495\n",
      "The feature importance for CRS_DEP_TIME_9 is : 0.0\n",
      "The feature importance for CRS_DEP_TIME_10 is : 0.00843649933027166\n",
      "The feature importance for CRS_DEP_TIME_11 is : 0.0\n",
      "The feature importance for CRS_DEP_TIME_12 is : 0.011879824023161033\n",
      "The feature importance for CRS_DEP_TIME_13 is : 0.0037658146483383016\n",
      "The feature importance for CRS_DEP_TIME_14 is : 0.004244999095892444\n",
      "The feature importance for CRS_DEP_TIME_15 is : 0.0017226495614333765\n",
      "The feature importance for CRS_DEP_TIME_16 is : 0.01747832435027986\n",
      "The feature importance for CRS_DEP_TIME_17 is : 0.007219790828597302\n",
      "The feature importance for CRS_DEP_TIME_18 is : 0.009109173167632083\n",
      "The feature importance for CRS_DEP_TIME_19 is : 0.009848998226676089\n",
      "The feature importance for CRS_DEP_TIME_20 is : 0.01392579379336123\n",
      "The feature importance for CRS_DEP_TIME_21 is : 0.009497008352643358\n",
      "The feature importance for DELAY_DEP_TIME_0 is : 0.0\n",
      "The feature importance for DELAY_DEP_TIME_1 is : 0.5217697003622574\n",
      "The feature importance for CARRIER_CO is : 0.006384618769120136\n",
      "The feature importance for CARRIER_DH is : 0.0\n",
      "The feature importance for CARRIER_DL is : 0.03588111998829966\n",
      "The feature importance for CARRIER_MQ is : 0.0015125146396661052\n",
      "The feature importance for CARRIER_OH is : 0.0\n",
      "The feature importance for CARRIER_RU is : 0.0064742956493545785\n",
      "The feature importance for CARRIER_UA is : 0.0\n",
      "The feature importance for CARRIER_US is : 0.02431736446988433\n",
      "The feature importance for DEST_EWR is : 0.011733245371707746\n",
      "The feature importance for DEST_JFK is : 0.006814420766462943\n",
      "The feature importance for DEST_LGA is : 0.020737606614415174\n",
      "The feature importance for ORIGIN_BWI is : 0.0\n",
      "The feature importance for ORIGIN_DCA is : 0.0014370400298370372\n",
      "The feature importance for ORIGIN_IAD is : 0.0\n",
      "The feature importance for WEATHER_0 is : 0.019119520137754316\n",
      "The feature importance for WEATHER_1 is : 0.0\n",
      "The feature importance for DAY_WEEK_1 is : 0.006927136437426678\n",
      "The feature importance for DAY_WEEK_2 is : 0.013737100356615628\n",
      "The feature importance for DAY_WEEK_3 is : 0.002911177436531578\n",
      "The feature importance for DAY_WEEK_4 is : 0.01364883334161367\n",
      "The feature importance for DAY_WEEK_5 is : 0.010464123764988235\n",
      "The feature importance for DAY_WEEK_6 is : 0.009134052036243042\n",
      "The feature importance for DAY_WEEK_7 is : 0.005762457552594032\n",
      "The feature importance for DAY_MONTH_1 is : 0.0047290387557203835\n",
      "The feature importance for DAY_MONTH_2 is : 0.0\n",
      "The feature importance for DAY_MONTH_3 is : 0.0074641567573816995\n",
      "The feature importance for DAY_MONTH_4 is : 0.00601855963277322\n",
      "The feature importance for DAY_MONTH_5 is : 0.003924986680970787\n",
      "The feature importance for DAY_MONTH_6 is : 0.007208235875146525\n",
      "The feature importance for DAY_MONTH_7 is : 0.0\n",
      "The feature importance for DAY_MONTH_8 is : 0.003092857399177927\n",
      "The feature importance for DAY_MONTH_9 is : 0.0\n",
      "The feature importance for DAY_MONTH_10 is : 0.0\n",
      "The feature importance for DAY_MONTH_11 is : 0.007154136959081806\n",
      "The feature importance for DAY_MONTH_12 is : 0.0\n",
      "The feature importance for DAY_MONTH_13 is : 0.0028740800596740745\n",
      "The feature importance for DAY_MONTH_14 is : 0.011683879308786537\n",
      "The feature importance for DAY_MONTH_15 is : 0.024060661401434258\n",
      "The feature importance for DAY_MONTH_16 is : 0.0\n",
      "The feature importance for DAY_MONTH_17 is : 0.004724606926876598\n",
      "The feature importance for DAY_MONTH_18 is : 0.0\n",
      "The feature importance for DAY_MONTH_19 is : 0.007165058375943989\n",
      "The feature importance for DAY_MONTH_20 is : 0.0020344385884361227\n",
      "The feature importance for DAY_MONTH_21 is : 0.0\n",
      "The feature importance for DAY_MONTH_22 is : 0.0019207044779346624\n",
      "The feature importance for DAY_MONTH_23 is : 0.005007470804313345\n",
      "The feature importance for DAY_MONTH_24 is : 0.0\n",
      "The feature importance for DAY_MONTH_25 is : 0.0\n",
      "The feature importance for DAY_MONTH_26 is : 0.0\n",
      "The feature importance for DAY_MONTH_27 is : 0.015050406013735914\n",
      "The feature importance for DAY_MONTH_28 is : 0.0\n",
      "The feature importance for DAY_MONTH_29 is : 0.015542547423672006\n",
      "The feature importance for DAY_MONTH_30 is : 0.0\n",
      "The feature importance for DAY_MONTH_31 is : 0.015166527189979375\n"
     ]
    }
   ],
   "source": [
    "#Running Feature Importance\n",
    "\n",
    "fi_col = []\n",
    "fi = []\n",
    "\n",
    "for i,column in enumerate(X_dummy):\n",
    "    print('The feature importance for {} is : {}'.format(column, dt.feature_importances_[i]))\n",
    "    \n",
    "    fi_col.append(column)\n",
    "    fi.append(dt.feature_importances_[i])"
   ]
  },
  {
   "cell_type": "code",
   "execution_count": 38,
   "id": "91839266",
   "metadata": {},
   "outputs": [
    {
     "data": {
      "text/html": [
       "<div>\n",
       "<style scoped>\n",
       "    .dataframe tbody tr th:only-of-type {\n",
       "        vertical-align: middle;\n",
       "    }\n",
       "\n",
       "    .dataframe tbody tr th {\n",
       "        vertical-align: top;\n",
       "    }\n",
       "\n",
       "    .dataframe thead th {\n",
       "        text-align: right;\n",
       "    }\n",
       "</style>\n",
       "<table border=\"1\" class=\"dataframe\">\n",
       "  <thead>\n",
       "    <tr style=\"text-align: right;\">\n",
       "      <th></th>\n",
       "      <th>Feature</th>\n",
       "      <th>Feature_Importance</th>\n",
       "    </tr>\n",
       "  </thead>\n",
       "  <tbody>\n",
       "    <tr>\n",
       "      <th>0</th>\n",
       "      <td>CRS_DEP_TIME_6</td>\n",
       "      <td>0.009534</td>\n",
       "    </tr>\n",
       "    <tr>\n",
       "      <th>1</th>\n",
       "      <td>CRS_DEP_TIME_7</td>\n",
       "      <td>0.015730</td>\n",
       "    </tr>\n",
       "    <tr>\n",
       "      <th>2</th>\n",
       "      <td>CRS_DEP_TIME_8</td>\n",
       "      <td>0.014018</td>\n",
       "    </tr>\n",
       "    <tr>\n",
       "      <th>3</th>\n",
       "      <td>CRS_DEP_TIME_9</td>\n",
       "      <td>0.000000</td>\n",
       "    </tr>\n",
       "    <tr>\n",
       "      <th>4</th>\n",
       "      <td>CRS_DEP_TIME_10</td>\n",
       "      <td>0.008436</td>\n",
       "    </tr>\n",
       "    <tr>\n",
       "      <th>...</th>\n",
       "      <td>...</td>\n",
       "      <td>...</td>\n",
       "    </tr>\n",
       "    <tr>\n",
       "      <th>67</th>\n",
       "      <td>DAY_MONTH_27</td>\n",
       "      <td>0.015050</td>\n",
       "    </tr>\n",
       "    <tr>\n",
       "      <th>68</th>\n",
       "      <td>DAY_MONTH_28</td>\n",
       "      <td>0.000000</td>\n",
       "    </tr>\n",
       "    <tr>\n",
       "      <th>69</th>\n",
       "      <td>DAY_MONTH_29</td>\n",
       "      <td>0.015543</td>\n",
       "    </tr>\n",
       "    <tr>\n",
       "      <th>70</th>\n",
       "      <td>DAY_MONTH_30</td>\n",
       "      <td>0.000000</td>\n",
       "    </tr>\n",
       "    <tr>\n",
       "      <th>71</th>\n",
       "      <td>DAY_MONTH_31</td>\n",
       "      <td>0.015167</td>\n",
       "    </tr>\n",
       "  </tbody>\n",
       "</table>\n",
       "<p>72 rows × 2 columns</p>\n",
       "</div>"
      ],
      "text/plain": [
       "            Feature  Feature_Importance\n",
       "0    CRS_DEP_TIME_6            0.009534\n",
       "1    CRS_DEP_TIME_7            0.015730\n",
       "2    CRS_DEP_TIME_8            0.014018\n",
       "3    CRS_DEP_TIME_9            0.000000\n",
       "4   CRS_DEP_TIME_10            0.008436\n",
       "..              ...                 ...\n",
       "67     DAY_MONTH_27            0.015050\n",
       "68     DAY_MONTH_28            0.000000\n",
       "69     DAY_MONTH_29            0.015543\n",
       "70     DAY_MONTH_30            0.000000\n",
       "71     DAY_MONTH_31            0.015167\n",
       "\n",
       "[72 rows x 2 columns]"
      ]
     },
     "execution_count": 38,
     "metadata": {},
     "output_type": "execute_result"
    }
   ],
   "source": [
    "#Creating a Dataframe for Feature Importance\n",
    "fi_col\n",
    "fi\n",
    "\n",
    "fi_df = zip(fi_col, fi)\n",
    "fi_df = pd.DataFrame(fi_df, columns = ['Feature','Feature_Importance'])\n",
    "fi_df"
   ]
  },
  {
   "cell_type": "code",
   "execution_count": 39,
   "id": "ca441ea8",
   "metadata": {},
   "outputs": [],
   "source": [
    "#Filtering only feature_importance > 0\n",
    "fi_df = fi_df[fi_df['Feature_Importance'] > 0].reset_index()"
   ]
  },
  {
   "cell_type": "code",
   "execution_count": 40,
   "id": "be0924b9",
   "metadata": {},
   "outputs": [
    {
     "data": {
      "text/plain": [
       "0       CRS_DEP_TIME_6\n",
       "1       CRS_DEP_TIME_7\n",
       "2       CRS_DEP_TIME_8\n",
       "3      CRS_DEP_TIME_10\n",
       "4      CRS_DEP_TIME_12\n",
       "5      CRS_DEP_TIME_13\n",
       "6      CRS_DEP_TIME_14\n",
       "7      CRS_DEP_TIME_15\n",
       "8      CRS_DEP_TIME_16\n",
       "9      CRS_DEP_TIME_17\n",
       "10     CRS_DEP_TIME_18\n",
       "11     CRS_DEP_TIME_19\n",
       "12     CRS_DEP_TIME_20\n",
       "13     CRS_DEP_TIME_21\n",
       "14    DELAY_DEP_TIME_1\n",
       "15          CARRIER_CO\n",
       "16          CARRIER_DL\n",
       "17          CARRIER_MQ\n",
       "18          CARRIER_RU\n",
       "19          CARRIER_US\n",
       "20            DEST_EWR\n",
       "21            DEST_JFK\n",
       "22            DEST_LGA\n",
       "23          ORIGIN_DCA\n",
       "24           WEATHER_0\n",
       "25          DAY_WEEK_1\n",
       "26          DAY_WEEK_2\n",
       "27          DAY_WEEK_3\n",
       "28          DAY_WEEK_4\n",
       "29          DAY_WEEK_5\n",
       "30          DAY_WEEK_6\n",
       "31          DAY_WEEK_7\n",
       "32         DAY_MONTH_1\n",
       "33         DAY_MONTH_3\n",
       "34         DAY_MONTH_4\n",
       "35         DAY_MONTH_5\n",
       "36         DAY_MONTH_6\n",
       "37         DAY_MONTH_8\n",
       "38        DAY_MONTH_11\n",
       "39        DAY_MONTH_13\n",
       "40        DAY_MONTH_14\n",
       "41        DAY_MONTH_15\n",
       "42        DAY_MONTH_17\n",
       "43        DAY_MONTH_19\n",
       "44        DAY_MONTH_20\n",
       "45        DAY_MONTH_22\n",
       "46        DAY_MONTH_23\n",
       "47        DAY_MONTH_27\n",
       "48        DAY_MONTH_29\n",
       "49        DAY_MONTH_31\n",
       "Name: Feature, dtype: object"
      ]
     },
     "execution_count": 40,
     "metadata": {},
     "output_type": "execute_result"
    }
   ],
   "source": [
    "#Creating list of columns to build up the prediction model\n",
    "columns_to_keep = fi_df['Feature']\n",
    "columns_to_keep"
   ]
  },
  {
   "cell_type": "markdown",
   "id": "00393038",
   "metadata": {},
   "source": [
    "We just keep 50 predictors for data modelling in the following section."
   ]
  },
  {
   "cell_type": "markdown",
   "id": "cd0d70f6",
   "metadata": {},
   "source": [
    "## 4. DATA MODELLING"
   ]
  },
  {
   "cell_type": "markdown",
   "id": "08f5fd5a",
   "metadata": {},
   "source": [
    "### a. Data partition"
   ]
  },
  {
   "cell_type": "code",
   "execution_count": 41,
   "id": "c8eaa03c",
   "metadata": {},
   "outputs": [],
   "source": [
    "#Creating new X and y data matrices based on list of columns getting from feature importance \n",
    "#(X = predictor variables, y = outcome variable)\n",
    "X=X_dummy[columns_to_keep]\n",
    "y=y_dummy"
   ]
  },
  {
   "cell_type": "code",
   "execution_count": 42,
   "id": "1c508ad4",
   "metadata": {},
   "outputs": [
    {
     "data": {
      "text/plain": [
       "((3546, 50), (3546,))"
      ]
     },
     "execution_count": 42,
     "metadata": {},
     "output_type": "execute_result"
    }
   ],
   "source": [
    "X.shape,y.shape"
   ]
  },
  {
   "cell_type": "code",
   "execution_count": 43,
   "id": "8504a7db",
   "metadata": {},
   "outputs": [],
   "source": [
    "#Splitting the dataset into training set and test set, size = 0.4\n",
    "train_X, valid_X, train_y, valid_y = train_test_split(X, y, test_size=0.33, random_state=1)\n",
    "\n",
    "# Official Doc: https://scikit-learn.org/stable/modules/generated/sklearn.model_selection.train_test_split.html"
   ]
  },
  {
   "cell_type": "code",
   "execution_count": 44,
   "id": "8b76f182",
   "metadata": {},
   "outputs": [
    {
     "data": {
      "text/plain": [
       "((2375, 50), (1171, 50), (2375,), (1171,))"
      ]
     },
     "execution_count": 44,
     "metadata": {},
     "output_type": "execute_result"
    }
   ],
   "source": [
    "train_X.shape, valid_X.shape, train_y.shape, valid_y.shape"
   ]
  },
  {
   "cell_type": "code",
   "execution_count": 45,
   "id": "555a5557",
   "metadata": {},
   "outputs": [
    {
     "data": {
      "text/plain": [
       "Index(['CRS_DEP_TIME_6', 'CRS_DEP_TIME_7', 'CRS_DEP_TIME_8', 'CRS_DEP_TIME_10',\n",
       "       'CRS_DEP_TIME_12', 'CRS_DEP_TIME_13', 'CRS_DEP_TIME_14',\n",
       "       'CRS_DEP_TIME_15', 'CRS_DEP_TIME_16', 'CRS_DEP_TIME_17',\n",
       "       'CRS_DEP_TIME_18', 'CRS_DEP_TIME_19', 'CRS_DEP_TIME_20',\n",
       "       'CRS_DEP_TIME_21', 'DELAY_DEP_TIME_1', 'CARRIER_CO', 'CARRIER_DL',\n",
       "       'CARRIER_MQ', 'CARRIER_RU', 'CARRIER_US', 'DEST_EWR', 'DEST_JFK',\n",
       "       'DEST_LGA', 'ORIGIN_DCA', 'WEATHER_0', 'DAY_WEEK_1', 'DAY_WEEK_2',\n",
       "       'DAY_WEEK_3', 'DAY_WEEK_4', 'DAY_WEEK_5', 'DAY_WEEK_6', 'DAY_WEEK_7',\n",
       "       'DAY_MONTH_1', 'DAY_MONTH_3', 'DAY_MONTH_4', 'DAY_MONTH_5',\n",
       "       'DAY_MONTH_6', 'DAY_MONTH_8', 'DAY_MONTH_11', 'DAY_MONTH_13',\n",
       "       'DAY_MONTH_14', 'DAY_MONTH_15', 'DAY_MONTH_17', 'DAY_MONTH_19',\n",
       "       'DAY_MONTH_20', 'DAY_MONTH_22', 'DAY_MONTH_23', 'DAY_MONTH_27',\n",
       "       'DAY_MONTH_29', 'DAY_MONTH_31'],\n",
       "      dtype='object')"
      ]
     },
     "execution_count": 45,
     "metadata": {},
     "output_type": "execute_result"
    }
   ],
   "source": [
    "train_X.columns"
   ]
  },
  {
   "cell_type": "markdown",
   "id": "fe13bba7",
   "metadata": {},
   "source": [
    "### b. Logistic Regression model"
   ]
  },
  {
   "cell_type": "code",
   "execution_count": 46,
   "id": "9c979891",
   "metadata": {},
   "outputs": [
    {
     "data": {
      "text/html": [
       "<style>#sk-container-id-2 {color: black;background-color: white;}#sk-container-id-2 pre{padding: 0;}#sk-container-id-2 div.sk-toggleable {background-color: white;}#sk-container-id-2 label.sk-toggleable__label {cursor: pointer;display: block;width: 100%;margin-bottom: 0;padding: 0.3em;box-sizing: border-box;text-align: center;}#sk-container-id-2 label.sk-toggleable__label-arrow:before {content: \"▸\";float: left;margin-right: 0.25em;color: #696969;}#sk-container-id-2 label.sk-toggleable__label-arrow:hover:before {color: black;}#sk-container-id-2 div.sk-estimator:hover label.sk-toggleable__label-arrow:before {color: black;}#sk-container-id-2 div.sk-toggleable__content {max-height: 0;max-width: 0;overflow: hidden;text-align: left;background-color: #f0f8ff;}#sk-container-id-2 div.sk-toggleable__content pre {margin: 0.2em;color: black;border-radius: 0.25em;background-color: #f0f8ff;}#sk-container-id-2 input.sk-toggleable__control:checked~div.sk-toggleable__content {max-height: 200px;max-width: 100%;overflow: auto;}#sk-container-id-2 input.sk-toggleable__control:checked~label.sk-toggleable__label-arrow:before {content: \"▾\";}#sk-container-id-2 div.sk-estimator input.sk-toggleable__control:checked~label.sk-toggleable__label {background-color: #d4ebff;}#sk-container-id-2 div.sk-label input.sk-toggleable__control:checked~label.sk-toggleable__label {background-color: #d4ebff;}#sk-container-id-2 input.sk-hidden--visually {border: 0;clip: rect(1px 1px 1px 1px);clip: rect(1px, 1px, 1px, 1px);height: 1px;margin: -1px;overflow: hidden;padding: 0;position: absolute;width: 1px;}#sk-container-id-2 div.sk-estimator {font-family: monospace;background-color: #f0f8ff;border: 1px dotted black;border-radius: 0.25em;box-sizing: border-box;margin-bottom: 0.5em;}#sk-container-id-2 div.sk-estimator:hover {background-color: #d4ebff;}#sk-container-id-2 div.sk-parallel-item::after {content: \"\";width: 100%;border-bottom: 1px solid gray;flex-grow: 1;}#sk-container-id-2 div.sk-label:hover label.sk-toggleable__label {background-color: #d4ebff;}#sk-container-id-2 div.sk-serial::before {content: \"\";position: absolute;border-left: 1px solid gray;box-sizing: border-box;top: 0;bottom: 0;left: 50%;z-index: 0;}#sk-container-id-2 div.sk-serial {display: flex;flex-direction: column;align-items: center;background-color: white;padding-right: 0.2em;padding-left: 0.2em;position: relative;}#sk-container-id-2 div.sk-item {position: relative;z-index: 1;}#sk-container-id-2 div.sk-parallel {display: flex;align-items: stretch;justify-content: center;background-color: white;position: relative;}#sk-container-id-2 div.sk-item::before, #sk-container-id-2 div.sk-parallel-item::before {content: \"\";position: absolute;border-left: 1px solid gray;box-sizing: border-box;top: 0;bottom: 0;left: 50%;z-index: -1;}#sk-container-id-2 div.sk-parallel-item {display: flex;flex-direction: column;z-index: 1;position: relative;background-color: white;}#sk-container-id-2 div.sk-parallel-item:first-child::after {align-self: flex-end;width: 50%;}#sk-container-id-2 div.sk-parallel-item:last-child::after {align-self: flex-start;width: 50%;}#sk-container-id-2 div.sk-parallel-item:only-child::after {width: 0;}#sk-container-id-2 div.sk-dashed-wrapped {border: 1px dashed gray;margin: 0 0.4em 0.5em 0.4em;box-sizing: border-box;padding-bottom: 0.4em;background-color: white;}#sk-container-id-2 div.sk-label label {font-family: monospace;font-weight: bold;display: inline-block;line-height: 1.2em;}#sk-container-id-2 div.sk-label-container {text-align: center;}#sk-container-id-2 div.sk-container {/* jupyter's `normalize.less` sets `[hidden] { display: none; }` but bootstrap.min.css set `[hidden] { display: none !important; }` so we also need the `!important` here to be able to override the default hidden behavior on the sphinx rendered scikit-learn.org. See: https://github.com/scikit-learn/scikit-learn/issues/21755 */display: inline-block !important;position: relative;}#sk-container-id-2 div.sk-text-repr-fallback {display: none;}</style><div id=\"sk-container-id-2\" class=\"sk-top-container\"><div class=\"sk-text-repr-fallback\"><pre>LogisticRegression(random_state=1, solver=&#x27;liblinear&#x27;)</pre><b>In a Jupyter environment, please rerun this cell to show the HTML representation or trust the notebook. <br />On GitHub, the HTML representation is unable to render, please try loading this page with nbviewer.org.</b></div><div class=\"sk-container\" hidden><div class=\"sk-item\"><div class=\"sk-estimator sk-toggleable\"><input class=\"sk-toggleable__control sk-hidden--visually\" id=\"sk-estimator-id-2\" type=\"checkbox\" checked><label for=\"sk-estimator-id-2\" class=\"sk-toggleable__label sk-toggleable__label-arrow\">LogisticRegression</label><div class=\"sk-toggleable__content\"><pre>LogisticRegression(random_state=1, solver=&#x27;liblinear&#x27;)</pre></div></div></div></div></div>"
      ],
      "text/plain": [
       "LogisticRegression(random_state=1, solver='liblinear')"
      ]
     },
     "execution_count": 46,
     "metadata": {},
     "output_type": "execute_result"
    }
   ],
   "source": [
    "#Fitting a logistic regression model\n",
    "model1 = LogisticRegression(random_state=1,solver = 'liblinear')\n",
    "model1.fit(train_X, train_y)\n",
    "\n",
    "# SKLearn doc: https://scikit-learn.org/stable/modules/generated/sklearn.linear_model.LogisticRegression.html"
   ]
  },
  {
   "cell_type": "code",
   "execution_count": 47,
   "id": "75c7bb0e",
   "metadata": {},
   "outputs": [
    {
     "name": "stdout",
     "output_type": "stream",
     "text": [
      "Intercept: [0.08202405]\n",
      "           Predictor  Coefficients\n",
      "0     CRS_DEP_TIME_6     -0.007953\n",
      "1     CRS_DEP_TIME_7      0.938899\n",
      "2     CRS_DEP_TIME_8      0.130561\n",
      "3    CRS_DEP_TIME_10     -0.259470\n",
      "4    CRS_DEP_TIME_12     -0.304982\n",
      "5    CRS_DEP_TIME_13      0.052980\n",
      "6    CRS_DEP_TIME_14      0.051671\n",
      "7    CRS_DEP_TIME_15      0.771983\n",
      "8    CRS_DEP_TIME_16      0.498923\n",
      "9    CRS_DEP_TIME_17      0.724307\n",
      "10   CRS_DEP_TIME_18     -0.676650\n",
      "11   CRS_DEP_TIME_19      0.956572\n",
      "12   CRS_DEP_TIME_20      1.376997\n",
      "13   CRS_DEP_TIME_21      0.568088\n",
      "14  DELAY_DEP_TIME_1      2.795942\n",
      "15        CARRIER_CO      0.146781\n",
      "16        CARRIER_DL     -0.756980\n",
      "17        CARRIER_MQ      0.439878\n",
      "18        CARRIER_RU      0.029845\n",
      "19        CARRIER_US      0.041612\n",
      "20          DEST_EWR      0.167074\n",
      "21          DEST_JFK     -0.138090\n",
      "22          DEST_LGA      0.053040\n",
      "23        ORIGIN_DCA     -0.152624\n",
      "24         WEATHER_0     -1.770067\n",
      "25        DAY_WEEK_1      0.281562\n",
      "26        DAY_WEEK_2     -0.180132\n",
      "27        DAY_WEEK_3      0.131524\n",
      "28        DAY_WEEK_4     -0.437197\n",
      "29        DAY_WEEK_5     -0.016903\n",
      "30        DAY_WEEK_6     -0.366179\n",
      "31        DAY_WEEK_7      0.669348\n",
      "32       DAY_MONTH_1     -1.672994\n",
      "33       DAY_MONTH_3     -0.398816\n",
      "34       DAY_MONTH_4     -0.072261\n",
      "35       DAY_MONTH_5      0.285646\n",
      "36       DAY_MONTH_6     -1.027557\n",
      "37       DAY_MONTH_8     -0.260248\n",
      "38      DAY_MONTH_11     -1.746476\n",
      "39      DAY_MONTH_13      0.084512\n",
      "40      DAY_MONTH_14      0.018594\n",
      "41      DAY_MONTH_15      1.500360\n",
      "42      DAY_MONTH_17      0.288701\n",
      "43      DAY_MONTH_19     -0.880416\n",
      "44      DAY_MONTH_20     -0.805579\n",
      "45      DAY_MONTH_22      0.007478\n",
      "46      DAY_MONTH_23      0.212655\n",
      "47      DAY_MONTH_27      1.568492\n",
      "48      DAY_MONTH_29     -0.011793\n",
      "49      DAY_MONTH_31     -0.967454\n"
     ]
    }
   ],
   "source": [
    "#Printing model's coefficients model1\n",
    "print('Intercept:', model1.intercept_)\n",
    "print(pd.DataFrame({'Predictor': train_X.columns, 'Coefficients': model1.coef_[0]}))"
   ]
  },
  {
   "cell_type": "code",
   "execution_count": 48,
   "id": "06139e8f",
   "metadata": {},
   "outputs": [
    {
     "name": "stdout",
     "output_type": "stream",
     "text": [
      "The Training Accuracy is:  0.8050526315789474\n",
      "The Testing Accuracy is:  0.8010247651579846\n"
     ]
    }
   ],
   "source": [
    "#Calculating accuracy on training set\n",
    "print(\"The Training Accuracy is: \", model1.score(train_X, train_y))\n",
    "\n",
    "#Calculating accuracy on valid set\n",
    "print(\"The Testing Accuracy is: \", model1.score(valid_X, valid_y))"
   ]
  },
  {
   "cell_type": "code",
   "execution_count": 49,
   "id": "10f8b293",
   "metadata": {},
   "outputs": [
    {
     "name": "stdout",
     "output_type": "stream",
     "text": [
      "Confusion Matrix (Accuracy 0.8051)\n",
      "\n",
      "       Prediction\n",
      "Actual   0   1\n",
      "     0 983 198\n",
      "     1 265 929\n"
     ]
    }
   ],
   "source": [
    "#Showing training set confusion matrix\n",
    "classificationSummary(train_y, model1.predict(train_X))"
   ]
  },
  {
   "cell_type": "code",
   "execution_count": 50,
   "id": "f1b0bfd8",
   "metadata": {},
   "outputs": [
    {
     "name": "stdout",
     "output_type": "stream",
     "text": [
      "Confusion Matrix (Accuracy 0.8010)\n",
      "\n",
      "       Prediction\n",
      "Actual   0   1\n",
      "     0 500  92\n",
      "     1 141 438\n"
     ]
    }
   ],
   "source": [
    "#Showing valid set confusion matrix\n",
    "classificationSummary(valid_y, model1.predict(valid_X))"
   ]
  },
  {
   "cell_type": "code",
   "execution_count": 51,
   "id": "1be1c357",
   "metadata": {},
   "outputs": [],
   "source": [
    "#Creating Confusion Matrix function\n",
    "def plot_confusion_matrix(cm, classes=None, title='Confusion matrix'):\n",
    "    \"\"\"Plots a confusion matrix.\"\"\"\n",
    "    if classes is not None:\n",
    "        sns.heatmap(cm, xticklabels=classes, yticklabels=classes, vmin=0., vmax=1., annot=True, annot_kws={'size':50})\n",
    "    else:\n",
    "        sns.heatmap(cm, vmin=0., vmax=1.)\n",
    "    plt.title(title)\n",
    "    plt.ylabel('Actual')\n",
    "    plt.xlabel('Prediction')"
   ]
  },
  {
   "cell_type": "code",
   "execution_count": 52,
   "id": "b272f2eb",
   "metadata": {},
   "outputs": [
    {
     "data": {
      "image/png": "[encoded data removed]",
      "text/plain": [
       "<Figure size 432x288 with 2 Axes>"
      ]
     },
     "metadata": {
      "needs_background": "light"
     },
     "output_type": "display_data"
    }
   ],
   "source": [
    "#Plotting Confusion Matrix\n",
    "cm1 = confusion_matrix(valid_y, model1.predict(valid_X))\n",
    "cm1_norm = cm1 / cm1.sum(axis=1).reshape(-1,1)\n",
    "\n",
    "plot_confusion_matrix(cm1_norm, classes = model1.classes_, title='Confusion matrix')"
   ]
  },
  {
   "cell_type": "code",
   "execution_count": 53,
   "id": "2d274a8f",
   "metadata": {},
   "outputs": [
    {
     "data": {
      "text/plain": [
       "array([[500,  92],\n",
       "       [141, 438]], dtype=int64)"
      ]
     },
     "execution_count": 53,
     "metadata": {},
     "output_type": "execute_result"
    }
   ],
   "source": [
    "cm1"
   ]
  },
  {
   "cell_type": "code",
   "execution_count": 54,
   "id": "d7cff596",
   "metadata": {},
   "outputs": [
    {
     "data": {
      "text/plain": [
       "array([592, 579], dtype=int64)"
      ]
     },
     "execution_count": 54,
     "metadata": {},
     "output_type": "execute_result"
    }
   ],
   "source": [
    "cm1.sum(axis=1)"
   ]
  },
  {
   "cell_type": "code",
   "execution_count": 55,
   "id": "e1851b70",
   "metadata": {},
   "outputs": [
    {
     "data": {
      "text/plain": [
       "array([500, 438], dtype=int64)"
      ]
     },
     "execution_count": 55,
     "metadata": {},
     "output_type": "execute_result"
    }
   ],
   "source": [
    "np.diag(cm1)"
   ]
  },
  {
   "cell_type": "code",
   "execution_count": 56,
   "id": "35fe9174",
   "metadata": {},
   "outputs": [
    {
     "name": "stdout",
     "output_type": "stream",
     "text": [
      "The True Positive Rate and True Negative Rate of the valid set are: [0.84459459 0.75647668]\n"
     ]
    }
   ],
   "source": [
    "#Calculating True Positive Rate and True Negative Rate\n",
    "TP1 = np.diag(cm1)\n",
    "FN1 = cm1.sum(axis=1) - np.diag(cm1)\n",
    "TPR1 = TP1 / (TP1 + FN1)\n",
    "\n",
    "print(\"The True Positive Rate and True Negative Rate of the valid set are:\", TPR1)"
   ]
  },
  {
   "cell_type": "markdown",
   "id": "37c9e283",
   "metadata": {},
   "source": [
    "### c. Naïve Bayes model"
   ]
  },
  {
   "cell_type": "code",
   "execution_count": 57,
   "id": "9d13cb2f",
   "metadata": {},
   "outputs": [
    {
     "data": {
      "text/html": [
       "<style>#sk-container-id-3 {color: black;background-color: white;}#sk-container-id-3 pre{padding: 0;}#sk-container-id-3 div.sk-toggleable {background-color: white;}#sk-container-id-3 label.sk-toggleable__label {cursor: pointer;display: block;width: 100%;margin-bottom: 0;padding: 0.3em;box-sizing: border-box;text-align: center;}#sk-container-id-3 label.sk-toggleable__label-arrow:before {content: \"▸\";float: left;margin-right: 0.25em;color: #696969;}#sk-container-id-3 label.sk-toggleable__label-arrow:hover:before {color: black;}#sk-container-id-3 div.sk-estimator:hover label.sk-toggleable__label-arrow:before {color: black;}#sk-container-id-3 div.sk-toggleable__content {max-height: 0;max-width: 0;overflow: hidden;text-align: left;background-color: #f0f8ff;}#sk-container-id-3 div.sk-toggleable__content pre {margin: 0.2em;color: black;border-radius: 0.25em;background-color: #f0f8ff;}#sk-container-id-3 input.sk-toggleable__control:checked~div.sk-toggleable__content {max-height: 200px;max-width: 100%;overflow: auto;}#sk-container-id-3 input.sk-toggleable__control:checked~label.sk-toggleable__label-arrow:before {content: \"▾\";}#sk-container-id-3 div.sk-estimator input.sk-toggleable__control:checked~label.sk-toggleable__label {background-color: #d4ebff;}#sk-container-id-3 div.sk-label input.sk-toggleable__control:checked~label.sk-toggleable__label {background-color: #d4ebff;}#sk-container-id-3 input.sk-hidden--visually {border: 0;clip: rect(1px 1px 1px 1px);clip: rect(1px, 1px, 1px, 1px);height: 1px;margin: -1px;overflow: hidden;padding: 0;position: absolute;width: 1px;}#sk-container-id-3 div.sk-estimator {font-family: monospace;background-color: #f0f8ff;border: 1px dotted black;border-radius: 0.25em;box-sizing: border-box;margin-bottom: 0.5em;}#sk-container-id-3 div.sk-estimator:hover {background-color: #d4ebff;}#sk-container-id-3 div.sk-parallel-item::after {content: \"\";width: 100%;border-bottom: 1px solid gray;flex-grow: 1;}#sk-container-id-3 div.sk-label:hover label.sk-toggleable__label {background-color: #d4ebff;}#sk-container-id-3 div.sk-serial::before {content: \"\";position: absolute;border-left: 1px solid gray;box-sizing: border-box;top: 0;bottom: 0;left: 50%;z-index: 0;}#sk-container-id-3 div.sk-serial {display: flex;flex-direction: column;align-items: center;background-color: white;padding-right: 0.2em;padding-left: 0.2em;position: relative;}#sk-container-id-3 div.sk-item {position: relative;z-index: 1;}#sk-container-id-3 div.sk-parallel {display: flex;align-items: stretch;justify-content: center;background-color: white;position: relative;}#sk-container-id-3 div.sk-item::before, #sk-container-id-3 div.sk-parallel-item::before {content: \"\";position: absolute;border-left: 1px solid gray;box-sizing: border-box;top: 0;bottom: 0;left: 50%;z-index: -1;}#sk-container-id-3 div.sk-parallel-item {display: flex;flex-direction: column;z-index: 1;position: relative;background-color: white;}#sk-container-id-3 div.sk-parallel-item:first-child::after {align-self: flex-end;width: 50%;}#sk-container-id-3 div.sk-parallel-item:last-child::after {align-self: flex-start;width: 50%;}#sk-container-id-3 div.sk-parallel-item:only-child::after {width: 0;}#sk-container-id-3 div.sk-dashed-wrapped {border: 1px dashed gray;margin: 0 0.4em 0.5em 0.4em;box-sizing: border-box;padding-bottom: 0.4em;background-color: white;}#sk-container-id-3 div.sk-label label {font-family: monospace;font-weight: bold;display: inline-block;line-height: 1.2em;}#sk-container-id-3 div.sk-label-container {text-align: center;}#sk-container-id-3 div.sk-container {/* jupyter's `normalize.less` sets `[hidden] { display: none; }` but bootstrap.min.css set `[hidden] { display: none !important; }` so we also need the `!important` here to be able to override the default hidden behavior on the sphinx rendered scikit-learn.org. See: https://github.com/scikit-learn/scikit-learn/issues/21755 */display: inline-block !important;position: relative;}#sk-container-id-3 div.sk-text-repr-fallback {display: none;}</style><div id=\"sk-container-id-3\" class=\"sk-top-container\"><div class=\"sk-text-repr-fallback\"><pre>MultinomialNB(alpha=0.01)</pre><b>In a Jupyter environment, please rerun this cell to show the HTML representation or trust the notebook. <br />On GitHub, the HTML representation is unable to render, please try loading this page with nbviewer.org.</b></div><div class=\"sk-container\" hidden><div class=\"sk-item\"><div class=\"sk-estimator sk-toggleable\"><input class=\"sk-toggleable__control sk-hidden--visually\" id=\"sk-estimator-id-3\" type=\"checkbox\" checked><label for=\"sk-estimator-id-3\" class=\"sk-toggleable__label sk-toggleable__label-arrow\">MultinomialNB</label><div class=\"sk-toggleable__content\"><pre>MultinomialNB(alpha=0.01)</pre></div></div></div></div></div>"
      ],
      "text/plain": [
       "MultinomialNB(alpha=0.01)"
      ]
     },
     "execution_count": 57,
     "metadata": {},
     "output_type": "execute_result"
    }
   ],
   "source": [
    "#Fitting a Naïve Bayes model\n",
    "model2 = MultinomialNB(alpha=0.01)\n",
    "model2.fit(train_X, train_y)\n",
    "\n",
    "# SKLearn doc: https://scikit-learn.org/stable/modules/generated/sklearn.naive_bayes.MultinomialNB.html#sklearn.naive_bayes.MultinomialNB"
   ]
  },
  {
   "cell_type": "code",
   "execution_count": 58,
   "id": "bf0fd3e2",
   "metadata": {},
   "outputs": [
    {
     "name": "stdout",
     "output_type": "stream",
     "text": [
      "The Training Accuracy is:  0.7629473684210526\n",
      "The Testing Accuracy is:  0.7574722459436379\n"
     ]
    }
   ],
   "source": [
    "#Calculating accuracy on training set\n",
    "print(\"The Training Accuracy is: \", model2.score(train_X, train_y))\n",
    "\n",
    "#Calculating accuracy on valid set\n",
    "print(\"The Testing Accuracy is: \", model2.score(valid_X, valid_y))"
   ]
  },
  {
   "cell_type": "code",
   "execution_count": 59,
   "id": "715cbec2",
   "metadata": {},
   "outputs": [
    {
     "name": "stdout",
     "output_type": "stream",
     "text": [
      "Confusion Matrix (Accuracy 0.7629)\n",
      "\n",
      "       Prediction\n",
      "Actual   0   1\n",
      "     0 882 299\n",
      "     1 264 930\n"
     ]
    }
   ],
   "source": [
    "#Showing training set confusion matrix\n",
    "classificationSummary(train_y, model2.predict(train_X))"
   ]
  },
  {
   "cell_type": "code",
   "execution_count": 60,
   "id": "6c93246c",
   "metadata": {},
   "outputs": [
    {
     "name": "stdout",
     "output_type": "stream",
     "text": [
      "Confusion Matrix (Accuracy 0.7575)\n",
      "\n",
      "       Prediction\n",
      "Actual   0   1\n",
      "     0 446 146\n",
      "     1 138 441\n"
     ]
    }
   ],
   "source": [
    "#Showing valid set confusion matrix\n",
    "classificationSummary(valid_y, model2.predict(valid_X))"
   ]
  },
  {
   "cell_type": "code",
   "execution_count": 61,
   "id": "78e3b4cb",
   "metadata": {},
   "outputs": [
    {
     "data": {
      "image/png": "[encoded data removed]",
      "text/plain": [
       "<Figure size 432x288 with 2 Axes>"
      ]
     },
     "metadata": {
      "needs_background": "light"
     },
     "output_type": "display_data"
    }
   ],
   "source": [
    "#Plotting Confusion Matrix\n",
    "cm2 = confusion_matrix(valid_y, model2.predict(valid_X))\n",
    "cm2_norm = cm2 / cm2.sum(axis=1).reshape(-1,1)\n",
    "\n",
    "plot_confusion_matrix(cm2_norm, classes = model2.classes_, title='Confusion matrix')"
   ]
  },
  {
   "cell_type": "code",
   "execution_count": 62,
   "id": "d3914ec3",
   "metadata": {},
   "outputs": [
    {
     "data": {
      "text/plain": [
       "array([[446, 146],\n",
       "       [138, 441]], dtype=int64)"
      ]
     },
     "execution_count": 62,
     "metadata": {},
     "output_type": "execute_result"
    }
   ],
   "source": [
    "cm2"
   ]
  },
  {
   "cell_type": "code",
   "execution_count": 63,
   "id": "1127ccfe",
   "metadata": {},
   "outputs": [
    {
     "data": {
      "text/plain": [
       "array([592, 579], dtype=int64)"
      ]
     },
     "execution_count": 63,
     "metadata": {},
     "output_type": "execute_result"
    }
   ],
   "source": [
    "cm2.sum(axis=1)"
   ]
  },
  {
   "cell_type": "code",
   "execution_count": 64,
   "id": "8ccce980",
   "metadata": {},
   "outputs": [
    {
     "data": {
      "text/plain": [
       "array([446, 441], dtype=int64)"
      ]
     },
     "execution_count": 64,
     "metadata": {},
     "output_type": "execute_result"
    }
   ],
   "source": [
    "np.diag(cm2)"
   ]
  },
  {
   "cell_type": "code",
   "execution_count": 65,
   "id": "71c3cd90",
   "metadata": {},
   "outputs": [
    {
     "name": "stdout",
     "output_type": "stream",
     "text": [
      "The True Positive Rate and True Negative Rate of the valid set are: [0.75337838 0.76165803]\n"
     ]
    }
   ],
   "source": [
    "#Calculating True Positive Rate and True Negative Rate\n",
    "TP2 = np.diag(cm2)\n",
    "FN2 = cm2.sum(axis=1) - np.diag(cm2)\n",
    "TPR2 = TP2 / (TP2 + FN2)\n",
    "\n",
    "print(\"The True Positive Rate and True Negative Rate of the valid set are:\", TPR2)"
   ]
  },
  {
   "cell_type": "markdown",
   "id": "8faa6729",
   "metadata": {},
   "source": [
    "### d. Decision Tree model"
   ]
  },
  {
   "cell_type": "code",
   "execution_count": 66,
   "id": "53932a69",
   "metadata": {},
   "outputs": [
    {
     "data": {
      "text/html": [
       "<style>#sk-container-id-4 {color: black;background-color: white;}#sk-container-id-4 pre{padding: 0;}#sk-container-id-4 div.sk-toggleable {background-color: white;}#sk-container-id-4 label.sk-toggleable__label {cursor: pointer;display: block;width: 100%;margin-bottom: 0;padding: 0.3em;box-sizing: border-box;text-align: center;}#sk-container-id-4 label.sk-toggleable__label-arrow:before {content: \"▸\";float: left;margin-right: 0.25em;color: #696969;}#sk-container-id-4 label.sk-toggleable__label-arrow:hover:before {color: black;}#sk-container-id-4 div.sk-estimator:hover label.sk-toggleable__label-arrow:before {color: black;}#sk-container-id-4 div.sk-toggleable__content {max-height: 0;max-width: 0;overflow: hidden;text-align: left;background-color: #f0f8ff;}#sk-container-id-4 div.sk-toggleable__content pre {margin: 0.2em;color: black;border-radius: 0.25em;background-color: #f0f8ff;}#sk-container-id-4 input.sk-toggleable__control:checked~div.sk-toggleable__content {max-height: 200px;max-width: 100%;overflow: auto;}#sk-container-id-4 input.sk-toggleable__control:checked~label.sk-toggleable__label-arrow:before {content: \"▾\";}#sk-container-id-4 div.sk-estimator input.sk-toggleable__control:checked~label.sk-toggleable__label {background-color: #d4ebff;}#sk-container-id-4 div.sk-label input.sk-toggleable__control:checked~label.sk-toggleable__label {background-color: #d4ebff;}#sk-container-id-4 input.sk-hidden--visually {border: 0;clip: rect(1px 1px 1px 1px);clip: rect(1px, 1px, 1px, 1px);height: 1px;margin: -1px;overflow: hidden;padding: 0;position: absolute;width: 1px;}#sk-container-id-4 div.sk-estimator {font-family: monospace;background-color: #f0f8ff;border: 1px dotted black;border-radius: 0.25em;box-sizing: border-box;margin-bottom: 0.5em;}#sk-container-id-4 div.sk-estimator:hover {background-color: #d4ebff;}#sk-container-id-4 div.sk-parallel-item::after {content: \"\";width: 100%;border-bottom: 1px solid gray;flex-grow: 1;}#sk-container-id-4 div.sk-label:hover label.sk-toggleable__label {background-color: #d4ebff;}#sk-container-id-4 div.sk-serial::before {content: \"\";position: absolute;border-left: 1px solid gray;box-sizing: border-box;top: 0;bottom: 0;left: 50%;z-index: 0;}#sk-container-id-4 div.sk-serial {display: flex;flex-direction: column;align-items: center;background-color: white;padding-right: 0.2em;padding-left: 0.2em;position: relative;}#sk-container-id-4 div.sk-item {position: relative;z-index: 1;}#sk-container-id-4 div.sk-parallel {display: flex;align-items: stretch;justify-content: center;background-color: white;position: relative;}#sk-container-id-4 div.sk-item::before, #sk-container-id-4 div.sk-parallel-item::before {content: \"\";position: absolute;border-left: 1px solid gray;box-sizing: border-box;top: 0;bottom: 0;left: 50%;z-index: -1;}#sk-container-id-4 div.sk-parallel-item {display: flex;flex-direction: column;z-index: 1;position: relative;background-color: white;}#sk-container-id-4 div.sk-parallel-item:first-child::after {align-self: flex-end;width: 50%;}#sk-container-id-4 div.sk-parallel-item:last-child::after {align-self: flex-start;width: 50%;}#sk-container-id-4 div.sk-parallel-item:only-child::after {width: 0;}#sk-container-id-4 div.sk-dashed-wrapped {border: 1px dashed gray;margin: 0 0.4em 0.5em 0.4em;box-sizing: border-box;padding-bottom: 0.4em;background-color: white;}#sk-container-id-4 div.sk-label label {font-family: monospace;font-weight: bold;display: inline-block;line-height: 1.2em;}#sk-container-id-4 div.sk-label-container {text-align: center;}#sk-container-id-4 div.sk-container {/* jupyter's `normalize.less` sets `[hidden] { display: none; }` but bootstrap.min.css set `[hidden] { display: none !important; }` so we also need the `!important` here to be able to override the default hidden behavior on the sphinx rendered scikit-learn.org. See: https://github.com/scikit-learn/scikit-learn/issues/21755 */display: inline-block !important;position: relative;}#sk-container-id-4 div.sk-text-repr-fallback {display: none;}</style><div id=\"sk-container-id-4\" class=\"sk-top-container\"><div class=\"sk-text-repr-fallback\"><pre>DecisionTreeClassifier(max_depth=10, random_state=1)</pre><b>In a Jupyter environment, please rerun this cell to show the HTML representation or trust the notebook. <br />On GitHub, the HTML representation is unable to render, please try loading this page with nbviewer.org.</b></div><div class=\"sk-container\" hidden><div class=\"sk-item\"><div class=\"sk-estimator sk-toggleable\"><input class=\"sk-toggleable__control sk-hidden--visually\" id=\"sk-estimator-id-4\" type=\"checkbox\" checked><label for=\"sk-estimator-id-4\" class=\"sk-toggleable__label sk-toggleable__label-arrow\">DecisionTreeClassifier</label><div class=\"sk-toggleable__content\"><pre>DecisionTreeClassifier(max_depth=10, random_state=1)</pre></div></div></div></div></div>"
      ],
      "text/plain": [
       "DecisionTreeClassifier(max_depth=10, random_state=1)"
      ]
     },
     "execution_count": 66,
     "metadata": {},
     "output_type": "execute_result"
    }
   ],
   "source": [
    "# Fitting a decision tree model\n",
    "model3 = DecisionTreeClassifier(random_state=1, criterion = 'gini', max_depth = 10)\n",
    "model3.fit(train_X, train_y)"
   ]
  },
  {
   "cell_type": "code",
   "execution_count": 67,
   "id": "2ff40da7",
   "metadata": {},
   "outputs": [
    {
     "name": "stdout",
     "output_type": "stream",
     "text": [
      "The Training Accuracy is:  0.8736842105263158\n",
      "The Testing Accuracy is:  0.8497011101622545\n"
     ]
    }
   ],
   "source": [
    "#Calculating accuracy on training set\n",
    "print(\"The Training Accuracy is: \", model3.score(train_X, train_y))\n",
    "\n",
    "#Calculating accuracy on valid set\n",
    "print(\"The Testing Accuracy is: \", model3.score(valid_X, valid_y))"
   ]
  },
  {
   "cell_type": "code",
   "execution_count": 68,
   "id": "f536c0be",
   "metadata": {},
   "outputs": [
    {
     "name": "stdout",
     "output_type": "stream",
     "text": [
      "Confusion Matrix (Accuracy 0.8737)\n",
      "\n",
      "       Prediction\n",
      "Actual    0    1\n",
      "     0 1067  114\n",
      "     1  186 1008\n"
     ]
    }
   ],
   "source": [
    "#Showing training set confusion matrix\n",
    "classificationSummary(train_y, model3.predict(train_X))"
   ]
  },
  {
   "cell_type": "code",
   "execution_count": 69,
   "id": "b4f4156f",
   "metadata": {},
   "outputs": [
    {
     "name": "stdout",
     "output_type": "stream",
     "text": [
      "Confusion Matrix (Accuracy 0.8497)\n",
      "\n",
      "       Prediction\n",
      "Actual   0   1\n",
      "     0 528  64\n",
      "     1 112 467\n"
     ]
    }
   ],
   "source": [
    "#Showing valid set confusion matrix\n",
    "classificationSummary(valid_y, model3.predict(valid_X))"
   ]
  },
  {
   "cell_type": "code",
   "execution_count": 70,
   "id": "4ae37938",
   "metadata": {},
   "outputs": [
    {
     "data": {
      "image/png": "[encoded data removed]",
      "text/plain": [
       "<Figure size 432x288 with 2 Axes>"
      ]
     },
     "metadata": {
      "needs_background": "light"
     },
     "output_type": "display_data"
    }
   ],
   "source": [
    "#Plotting Confusion Matrix\n",
    "cm3 = confusion_matrix(valid_y, model3.predict(valid_X))\n",
    "cm3_norm = cm3 / cm3.sum(axis=1).reshape(-1,1)\n",
    "\n",
    "plot_confusion_matrix(cm3_norm, classes = model3.classes_, title='Confusion matrix')"
   ]
  },
  {
   "cell_type": "code",
   "execution_count": 71,
   "id": "db6f5f15",
   "metadata": {},
   "outputs": [
    {
     "data": {
      "text/plain": [
       "array([[528,  64],\n",
       "       [112, 467]], dtype=int64)"
      ]
     },
     "execution_count": 71,
     "metadata": {},
     "output_type": "execute_result"
    }
   ],
   "source": [
    "cm3"
   ]
  },
  {
   "cell_type": "code",
   "execution_count": 72,
   "id": "0fb6663d",
   "metadata": {},
   "outputs": [
    {
     "data": {
      "text/plain": [
       "array([592, 579], dtype=int64)"
      ]
     },
     "execution_count": 72,
     "metadata": {},
     "output_type": "execute_result"
    }
   ],
   "source": [
    "cm3.sum(axis=1)"
   ]
  },
  {
   "cell_type": "code",
   "execution_count": 73,
   "id": "6e2b6197",
   "metadata": {},
   "outputs": [
    {
     "data": {
      "text/plain": [
       "array([528, 467], dtype=int64)"
      ]
     },
     "execution_count": 73,
     "metadata": {},
     "output_type": "execute_result"
    }
   ],
   "source": [
    "np.diag(cm3)"
   ]
  },
  {
   "cell_type": "code",
   "execution_count": 74,
   "id": "6ee32538",
   "metadata": {},
   "outputs": [
    {
     "name": "stdout",
     "output_type": "stream",
     "text": [
      "The True Positive Rate and True Negative Rate of the valid set are: [0.89189189 0.80656304]\n"
     ]
    }
   ],
   "source": [
    "#Calculating True Positive Rate and True Negative Rate\n",
    "TP3 = np.diag(cm3)\n",
    "FN3 = cm3.sum(axis=1) - np.diag(cm3)\n",
    "TPR3 = TP3 / (TP3 + FN3)\n",
    "\n",
    "print(\"The True Positive Rate and True Negative Rate of the valid set are:\", TPR3)"
   ]
  },
  {
   "cell_type": "markdown",
   "id": "3093abbb",
   "metadata": {},
   "source": [
    "### e. Model comparison"
   ]
  },
  {
   "cell_type": "markdown",
   "id": "9aabef63",
   "metadata": {},
   "source": [
    "Based on accuracy score, true positive rate, and true negative rate, model3 which is built by using decision tree model (50 predictors) is the optimal solution for flight delay prediction."
   ]
  },
  {
   "cell_type": "markdown",
   "id": "cd22a144",
   "metadata": {},
   "source": [
    "## 5. MODEL IMPLEMENTATION"
   ]
  },
  {
   "cell_type": "markdown",
   "id": "d7592205",
   "metadata": {},
   "source": [
    "In the previous chapter, we have already created 3 models and also picked the decision tree model as the optimal one. Moving on, to put this model into use, we are going to classify 10 observations in the FlightDelaysTestingData file."
   ]
  },
  {
   "cell_type": "code",
   "execution_count": 75,
   "id": "22f95a6c",
   "metadata": {},
   "outputs": [],
   "source": [
    "#Loading the FlightDelaysTestingData dataset\n",
    "test_data = pd.read_csv('FlightDelaysTestingData.csv')"
   ]
  },
  {
   "cell_type": "code",
   "execution_count": 76,
   "id": "1a5bfbbd",
   "metadata": {},
   "outputs": [
    {
     "data": {
      "text/html": [
       "<div>\n",
       "<style scoped>\n",
       "    .dataframe tbody tr th:only-of-type {\n",
       "        vertical-align: middle;\n",
       "    }\n",
       "\n",
       "    .dataframe tbody tr th {\n",
       "        vertical-align: top;\n",
       "    }\n",
       "\n",
       "    .dataframe thead th {\n",
       "        text-align: right;\n",
       "    }\n",
       "</style>\n",
       "<table border=\"1\" class=\"dataframe\">\n",
       "  <thead>\n",
       "    <tr style=\"text-align: right;\">\n",
       "      <th></th>\n",
       "      <th>CRS_DEP_TIME</th>\n",
       "      <th>DELAY_DEP_TIME</th>\n",
       "      <th>CARRIER</th>\n",
       "      <th>DEST</th>\n",
       "      <th>ORIGIN</th>\n",
       "      <th>WEATHER</th>\n",
       "      <th>DAY_WEEK</th>\n",
       "      <th>DAY_MONTH</th>\n",
       "    </tr>\n",
       "  </thead>\n",
       "  <tbody>\n",
       "    <tr>\n",
       "      <th>0</th>\n",
       "      <td>7</td>\n",
       "      <td>0</td>\n",
       "      <td>AA</td>\n",
       "      <td>JFK</td>\n",
       "      <td>BWI</td>\n",
       "      <td>1</td>\n",
       "      <td>2</td>\n",
       "      <td>5</td>\n",
       "    </tr>\n",
       "    <tr>\n",
       "      <th>1</th>\n",
       "      <td>9</td>\n",
       "      <td>1</td>\n",
       "      <td>CO</td>\n",
       "      <td>EWR</td>\n",
       "      <td>DCA</td>\n",
       "      <td>1</td>\n",
       "      <td>4</td>\n",
       "      <td>13</td>\n",
       "    </tr>\n",
       "    <tr>\n",
       "      <th>2</th>\n",
       "      <td>10</td>\n",
       "      <td>0</td>\n",
       "      <td>DH</td>\n",
       "      <td>LGA</td>\n",
       "      <td>IAD</td>\n",
       "      <td>0</td>\n",
       "      <td>5</td>\n",
       "      <td>25</td>\n",
       "    </tr>\n",
       "    <tr>\n",
       "      <th>3</th>\n",
       "      <td>15</td>\n",
       "      <td>1</td>\n",
       "      <td>DL</td>\n",
       "      <td>LGA</td>\n",
       "      <td>DCA</td>\n",
       "      <td>0</td>\n",
       "      <td>7</td>\n",
       "      <td>10</td>\n",
       "    </tr>\n",
       "    <tr>\n",
       "      <th>4</th>\n",
       "      <td>12</td>\n",
       "      <td>0</td>\n",
       "      <td>EV</td>\n",
       "      <td>EWR</td>\n",
       "      <td>IAD</td>\n",
       "      <td>0</td>\n",
       "      <td>6</td>\n",
       "      <td>9</td>\n",
       "    </tr>\n",
       "    <tr>\n",
       "      <th>5</th>\n",
       "      <td>8</td>\n",
       "      <td>0</td>\n",
       "      <td>US</td>\n",
       "      <td>JFK</td>\n",
       "      <td>BWI</td>\n",
       "      <td>0</td>\n",
       "      <td>3</td>\n",
       "      <td>30</td>\n",
       "    </tr>\n",
       "    <tr>\n",
       "      <th>6</th>\n",
       "      <td>9</td>\n",
       "      <td>0</td>\n",
       "      <td>AA</td>\n",
       "      <td>JFK</td>\n",
       "      <td>BWI</td>\n",
       "      <td>1</td>\n",
       "      <td>1</td>\n",
       "      <td>17</td>\n",
       "    </tr>\n",
       "    <tr>\n",
       "      <th>7</th>\n",
       "      <td>18</td>\n",
       "      <td>0</td>\n",
       "      <td>CO</td>\n",
       "      <td>LGA</td>\n",
       "      <td>DCA</td>\n",
       "      <td>1</td>\n",
       "      <td>1</td>\n",
       "      <td>12</td>\n",
       "    </tr>\n",
       "    <tr>\n",
       "      <th>8</th>\n",
       "      <td>21</td>\n",
       "      <td>1</td>\n",
       "      <td>US</td>\n",
       "      <td>EWR</td>\n",
       "      <td>IAD</td>\n",
       "      <td>0</td>\n",
       "      <td>3</td>\n",
       "      <td>22</td>\n",
       "    </tr>\n",
       "    <tr>\n",
       "      <th>9</th>\n",
       "      <td>22</td>\n",
       "      <td>0</td>\n",
       "      <td>RU</td>\n",
       "      <td>EWR</td>\n",
       "      <td>IAD</td>\n",
       "      <td>0</td>\n",
       "      <td>7</td>\n",
       "      <td>31</td>\n",
       "    </tr>\n",
       "  </tbody>\n",
       "</table>\n",
       "</div>"
      ],
      "text/plain": [
       "   CRS_DEP_TIME  DELAY_DEP_TIME CARRIER DEST ORIGIN  WEATHER  DAY_WEEK  \\\n",
       "0             7               0      AA  JFK    BWI        1         2   \n",
       "1             9               1      CO  EWR    DCA        1         4   \n",
       "2            10               0      DH  LGA    IAD        0         5   \n",
       "3            15               1      DL  LGA    DCA        0         7   \n",
       "4            12               0      EV  EWR    IAD        0         6   \n",
       "5             8               0      US  JFK    BWI        0         3   \n",
       "6             9               0      AA  JFK    BWI        1         1   \n",
       "7            18               0      CO  LGA    DCA        1         1   \n",
       "8            21               1      US  EWR    IAD        0         3   \n",
       "9            22               0      RU  EWR    IAD        0         7   \n",
       "\n",
       "   DAY_MONTH  \n",
       "0          5  \n",
       "1         13  \n",
       "2         25  \n",
       "3         10  \n",
       "4          9  \n",
       "5         30  \n",
       "6         17  \n",
       "7         12  \n",
       "8         22  \n",
       "9         31  "
      ]
     },
     "execution_count": 76,
     "metadata": {},
     "output_type": "execute_result"
    }
   ],
   "source": [
    "#Viewing dataset\n",
    "test_data"
   ]
  },
  {
   "cell_type": "markdown",
   "id": "ec5d57bc",
   "metadata": {},
   "source": [
    "We can see that the test_data has a different structure from the X dataset, which is used to build up the decision tree model. Therefore, we will be doing some data transformation that makes the test_data set can fit into our designated model."
   ]
  },
  {
   "cell_type": "code",
   "execution_count": 77,
   "id": "81139c15",
   "metadata": {},
   "outputs": [],
   "source": [
    "#Transforming test_data variables to a dataframe of dummy variables\n",
    "new_test_data = pd.get_dummies(test_data, columns = features)"
   ]
  },
  {
   "cell_type": "code",
   "execution_count": 78,
   "id": "59107f89",
   "metadata": {},
   "outputs": [
    {
     "data": {
      "text/html": [
       "<div>\n",
       "<style scoped>\n",
       "    .dataframe tbody tr th:only-of-type {\n",
       "        vertical-align: middle;\n",
       "    }\n",
       "\n",
       "    .dataframe tbody tr th {\n",
       "        vertical-align: top;\n",
       "    }\n",
       "\n",
       "    .dataframe thead th {\n",
       "        text-align: right;\n",
       "    }\n",
       "</style>\n",
       "<table border=\"1\" class=\"dataframe\">\n",
       "  <thead>\n",
       "    <tr style=\"text-align: right;\">\n",
       "      <th></th>\n",
       "      <th>CRS_DEP_TIME_7</th>\n",
       "      <th>CRS_DEP_TIME_8</th>\n",
       "      <th>CRS_DEP_TIME_9</th>\n",
       "      <th>CRS_DEP_TIME_10</th>\n",
       "      <th>CRS_DEP_TIME_12</th>\n",
       "      <th>CRS_DEP_TIME_15</th>\n",
       "      <th>CRS_DEP_TIME_18</th>\n",
       "      <th>CRS_DEP_TIME_21</th>\n",
       "      <th>CRS_DEP_TIME_22</th>\n",
       "      <th>DELAY_DEP_TIME_0</th>\n",
       "      <th>...</th>\n",
       "      <th>DAY_MONTH_5</th>\n",
       "      <th>DAY_MONTH_9</th>\n",
       "      <th>DAY_MONTH_10</th>\n",
       "      <th>DAY_MONTH_12</th>\n",
       "      <th>DAY_MONTH_13</th>\n",
       "      <th>DAY_MONTH_17</th>\n",
       "      <th>DAY_MONTH_22</th>\n",
       "      <th>DAY_MONTH_25</th>\n",
       "      <th>DAY_MONTH_30</th>\n",
       "      <th>DAY_MONTH_31</th>\n",
       "    </tr>\n",
       "  </thead>\n",
       "  <tbody>\n",
       "    <tr>\n",
       "      <th>0</th>\n",
       "      <td>1</td>\n",
       "      <td>0</td>\n",
       "      <td>0</td>\n",
       "      <td>0</td>\n",
       "      <td>0</td>\n",
       "      <td>0</td>\n",
       "      <td>0</td>\n",
       "      <td>0</td>\n",
       "      <td>0</td>\n",
       "      <td>1</td>\n",
       "      <td>...</td>\n",
       "      <td>1</td>\n",
       "      <td>0</td>\n",
       "      <td>0</td>\n",
       "      <td>0</td>\n",
       "      <td>0</td>\n",
       "      <td>0</td>\n",
       "      <td>0</td>\n",
       "      <td>0</td>\n",
       "      <td>0</td>\n",
       "      <td>0</td>\n",
       "    </tr>\n",
       "    <tr>\n",
       "      <th>1</th>\n",
       "      <td>0</td>\n",
       "      <td>0</td>\n",
       "      <td>1</td>\n",
       "      <td>0</td>\n",
       "      <td>0</td>\n",
       "      <td>0</td>\n",
       "      <td>0</td>\n",
       "      <td>0</td>\n",
       "      <td>0</td>\n",
       "      <td>0</td>\n",
       "      <td>...</td>\n",
       "      <td>0</td>\n",
       "      <td>0</td>\n",
       "      <td>0</td>\n",
       "      <td>0</td>\n",
       "      <td>1</td>\n",
       "      <td>0</td>\n",
       "      <td>0</td>\n",
       "      <td>0</td>\n",
       "      <td>0</td>\n",
       "      <td>0</td>\n",
       "    </tr>\n",
       "    <tr>\n",
       "      <th>2</th>\n",
       "      <td>0</td>\n",
       "      <td>0</td>\n",
       "      <td>0</td>\n",
       "      <td>1</td>\n",
       "      <td>0</td>\n",
       "      <td>0</td>\n",
       "      <td>0</td>\n",
       "      <td>0</td>\n",
       "      <td>0</td>\n",
       "      <td>1</td>\n",
       "      <td>...</td>\n",
       "      <td>0</td>\n",
       "      <td>0</td>\n",
       "      <td>0</td>\n",
       "      <td>0</td>\n",
       "      <td>0</td>\n",
       "      <td>0</td>\n",
       "      <td>0</td>\n",
       "      <td>1</td>\n",
       "      <td>0</td>\n",
       "      <td>0</td>\n",
       "    </tr>\n",
       "    <tr>\n",
       "      <th>3</th>\n",
       "      <td>0</td>\n",
       "      <td>0</td>\n",
       "      <td>0</td>\n",
       "      <td>0</td>\n",
       "      <td>0</td>\n",
       "      <td>1</td>\n",
       "      <td>0</td>\n",
       "      <td>0</td>\n",
       "      <td>0</td>\n",
       "      <td>0</td>\n",
       "      <td>...</td>\n",
       "      <td>0</td>\n",
       "      <td>0</td>\n",
       "      <td>1</td>\n",
       "      <td>0</td>\n",
       "      <td>0</td>\n",
       "      <td>0</td>\n",
       "      <td>0</td>\n",
       "      <td>0</td>\n",
       "      <td>0</td>\n",
       "      <td>0</td>\n",
       "    </tr>\n",
       "    <tr>\n",
       "      <th>4</th>\n",
       "      <td>0</td>\n",
       "      <td>0</td>\n",
       "      <td>0</td>\n",
       "      <td>0</td>\n",
       "      <td>1</td>\n",
       "      <td>0</td>\n",
       "      <td>0</td>\n",
       "      <td>0</td>\n",
       "      <td>0</td>\n",
       "      <td>1</td>\n",
       "      <td>...</td>\n",
       "      <td>0</td>\n",
       "      <td>1</td>\n",
       "      <td>0</td>\n",
       "      <td>0</td>\n",
       "      <td>0</td>\n",
       "      <td>0</td>\n",
       "      <td>0</td>\n",
       "      <td>0</td>\n",
       "      <td>0</td>\n",
       "      <td>0</td>\n",
       "    </tr>\n",
       "    <tr>\n",
       "      <th>5</th>\n",
       "      <td>0</td>\n",
       "      <td>1</td>\n",
       "      <td>0</td>\n",
       "      <td>0</td>\n",
       "      <td>0</td>\n",
       "      <td>0</td>\n",
       "      <td>0</td>\n",
       "      <td>0</td>\n",
       "      <td>0</td>\n",
       "      <td>1</td>\n",
       "      <td>...</td>\n",
       "      <td>0</td>\n",
       "      <td>0</td>\n",
       "      <td>0</td>\n",
       "      <td>0</td>\n",
       "      <td>0</td>\n",
       "      <td>0</td>\n",
       "      <td>0</td>\n",
       "      <td>0</td>\n",
       "      <td>1</td>\n",
       "      <td>0</td>\n",
       "    </tr>\n",
       "    <tr>\n",
       "      <th>6</th>\n",
       "      <td>0</td>\n",
       "      <td>0</td>\n",
       "      <td>1</td>\n",
       "      <td>0</td>\n",
       "      <td>0</td>\n",
       "      <td>0</td>\n",
       "      <td>0</td>\n",
       "      <td>0</td>\n",
       "      <td>0</td>\n",
       "      <td>1</td>\n",
       "      <td>...</td>\n",
       "      <td>0</td>\n",
       "      <td>0</td>\n",
       "      <td>0</td>\n",
       "      <td>0</td>\n",
       "      <td>0</td>\n",
       "      <td>1</td>\n",
       "      <td>0</td>\n",
       "      <td>0</td>\n",
       "      <td>0</td>\n",
       "      <td>0</td>\n",
       "    </tr>\n",
       "    <tr>\n",
       "      <th>7</th>\n",
       "      <td>0</td>\n",
       "      <td>0</td>\n",
       "      <td>0</td>\n",
       "      <td>0</td>\n",
       "      <td>0</td>\n",
       "      <td>0</td>\n",
       "      <td>1</td>\n",
       "      <td>0</td>\n",
       "      <td>0</td>\n",
       "      <td>1</td>\n",
       "      <td>...</td>\n",
       "      <td>0</td>\n",
       "      <td>0</td>\n",
       "      <td>0</td>\n",
       "      <td>1</td>\n",
       "      <td>0</td>\n",
       "      <td>0</td>\n",
       "      <td>0</td>\n",
       "      <td>0</td>\n",
       "      <td>0</td>\n",
       "      <td>0</td>\n",
       "    </tr>\n",
       "    <tr>\n",
       "      <th>8</th>\n",
       "      <td>0</td>\n",
       "      <td>0</td>\n",
       "      <td>0</td>\n",
       "      <td>0</td>\n",
       "      <td>0</td>\n",
       "      <td>0</td>\n",
       "      <td>0</td>\n",
       "      <td>1</td>\n",
       "      <td>0</td>\n",
       "      <td>0</td>\n",
       "      <td>...</td>\n",
       "      <td>0</td>\n",
       "      <td>0</td>\n",
       "      <td>0</td>\n",
       "      <td>0</td>\n",
       "      <td>0</td>\n",
       "      <td>0</td>\n",
       "      <td>1</td>\n",
       "      <td>0</td>\n",
       "      <td>0</td>\n",
       "      <td>0</td>\n",
       "    </tr>\n",
       "    <tr>\n",
       "      <th>9</th>\n",
       "      <td>0</td>\n",
       "      <td>0</td>\n",
       "      <td>0</td>\n",
       "      <td>0</td>\n",
       "      <td>0</td>\n",
       "      <td>0</td>\n",
       "      <td>0</td>\n",
       "      <td>0</td>\n",
       "      <td>1</td>\n",
       "      <td>1</td>\n",
       "      <td>...</td>\n",
       "      <td>0</td>\n",
       "      <td>0</td>\n",
       "      <td>0</td>\n",
       "      <td>0</td>\n",
       "      <td>0</td>\n",
       "      <td>0</td>\n",
       "      <td>0</td>\n",
       "      <td>0</td>\n",
       "      <td>0</td>\n",
       "      <td>1</td>\n",
       "    </tr>\n",
       "  </tbody>\n",
       "</table>\n",
       "<p>10 rows × 43 columns</p>\n",
       "</div>"
      ],
      "text/plain": [
       "   CRS_DEP_TIME_7  CRS_DEP_TIME_8  CRS_DEP_TIME_9  CRS_DEP_TIME_10  \\\n",
       "0               1               0               0                0   \n",
       "1               0               0               1                0   \n",
       "2               0               0               0                1   \n",
       "3               0               0               0                0   \n",
       "4               0               0               0                0   \n",
       "5               0               1               0                0   \n",
       "6               0               0               1                0   \n",
       "7               0               0               0                0   \n",
       "8               0               0               0                0   \n",
       "9               0               0               0                0   \n",
       "\n",
       "   CRS_DEP_TIME_12  CRS_DEP_TIME_15  CRS_DEP_TIME_18  CRS_DEP_TIME_21  \\\n",
       "0                0                0                0                0   \n",
       "1                0                0                0                0   \n",
       "2                0                0                0                0   \n",
       "3                0                1                0                0   \n",
       "4                1                0                0                0   \n",
       "5                0                0                0                0   \n",
       "6                0                0                0                0   \n",
       "7                0                0                1                0   \n",
       "8                0                0                0                1   \n",
       "9                0                0                0                0   \n",
       "\n",
       "   CRS_DEP_TIME_22  DELAY_DEP_TIME_0  ...  DAY_MONTH_5  DAY_MONTH_9  \\\n",
       "0                0                 1  ...            1            0   \n",
       "1                0                 0  ...            0            0   \n",
       "2                0                 1  ...            0            0   \n",
       "3                0                 0  ...            0            0   \n",
       "4                0                 1  ...            0            1   \n",
       "5                0                 1  ...            0            0   \n",
       "6                0                 1  ...            0            0   \n",
       "7                0                 1  ...            0            0   \n",
       "8                0                 0  ...            0            0   \n",
       "9                1                 1  ...            0            0   \n",
       "\n",
       "   DAY_MONTH_10  DAY_MONTH_12  DAY_MONTH_13  DAY_MONTH_17  DAY_MONTH_22  \\\n",
       "0             0             0             0             0             0   \n",
       "1             0             0             1             0             0   \n",
       "2             0             0             0             0             0   \n",
       "3             1             0             0             0             0   \n",
       "4             0             0             0             0             0   \n",
       "5             0             0             0             0             0   \n",
       "6             0             0             0             1             0   \n",
       "7             0             1             0             0             0   \n",
       "8             0             0             0             0             1   \n",
       "9             0             0             0             0             0   \n",
       "\n",
       "   DAY_MONTH_25  DAY_MONTH_30  DAY_MONTH_31  \n",
       "0             0             0             0  \n",
       "1             0             0             0  \n",
       "2             1             0             0  \n",
       "3             0             0             0  \n",
       "4             0             0             0  \n",
       "5             0             1             0  \n",
       "6             0             0             0  \n",
       "7             0             0             0  \n",
       "8             0             0             0  \n",
       "9             0             0             1  \n",
       "\n",
       "[10 rows x 43 columns]"
      ]
     },
     "execution_count": 78,
     "metadata": {},
     "output_type": "execute_result"
    }
   ],
   "source": [
    "#Viewing dataset\n",
    "new_test_data"
   ]
  },
  {
   "cell_type": "code",
   "execution_count": 79,
   "id": "df5baf06",
   "metadata": {},
   "outputs": [
    {
     "name": "stderr",
     "output_type": "stream",
     "text": [
      "C:\\Users\\Admin\\AppData\\Local\\Temp\\ipykernel_11016\\807650965.py:2: FutureWarning: The frame.append method is deprecated and will be removed from pandas in a future version. Use pandas.concat instead.\n",
      "  X_test_data = pd.DataFrame(valid_X.append(new_test_data))\n"
     ]
    }
   ],
   "source": [
    "#Merging X_test_data to valid_X\n",
    "X_test_data = pd.DataFrame(valid_X.append(new_test_data))"
   ]
  },
  {
   "cell_type": "code",
   "execution_count": 80,
   "id": "5c9428cf",
   "metadata": {},
   "outputs": [
    {
     "data": {
      "text/plain": [
       "Index(['CRS_DEP_TIME_6', 'CRS_DEP_TIME_7', 'CRS_DEP_TIME_8', 'CRS_DEP_TIME_10',\n",
       "       'CRS_DEP_TIME_12', 'CRS_DEP_TIME_13', 'CRS_DEP_TIME_14',\n",
       "       'CRS_DEP_TIME_15', 'CRS_DEP_TIME_16', 'CRS_DEP_TIME_17',\n",
       "       'CRS_DEP_TIME_18', 'CRS_DEP_TIME_19', 'CRS_DEP_TIME_20',\n",
       "       'CRS_DEP_TIME_21', 'DELAY_DEP_TIME_1', 'CARRIER_CO', 'CARRIER_DL',\n",
       "       'CARRIER_MQ', 'CARRIER_RU', 'CARRIER_US', 'DEST_EWR', 'DEST_JFK',\n",
       "       'DEST_LGA', 'ORIGIN_DCA', 'WEATHER_0', 'DAY_WEEK_1', 'DAY_WEEK_2',\n",
       "       'DAY_WEEK_3', 'DAY_WEEK_4', 'DAY_WEEK_5', 'DAY_WEEK_6', 'DAY_WEEK_7',\n",
       "       'DAY_MONTH_1', 'DAY_MONTH_3', 'DAY_MONTH_4', 'DAY_MONTH_5',\n",
       "       'DAY_MONTH_6', 'DAY_MONTH_8', 'DAY_MONTH_11', 'DAY_MONTH_13',\n",
       "       'DAY_MONTH_14', 'DAY_MONTH_15', 'DAY_MONTH_17', 'DAY_MONTH_19',\n",
       "       'DAY_MONTH_20', 'DAY_MONTH_22', 'DAY_MONTH_23', 'DAY_MONTH_27',\n",
       "       'DAY_MONTH_29', 'DAY_MONTH_31', 'CRS_DEP_TIME_9', 'CRS_DEP_TIME_22',\n",
       "       'DELAY_DEP_TIME_0', 'CARRIER_AA', 'CARRIER_DH', 'CARRIER_EV',\n",
       "       'ORIGIN_BWI', 'ORIGIN_IAD', 'WEATHER_1', 'DAY_MONTH_9', 'DAY_MONTH_10',\n",
       "       'DAY_MONTH_12', 'DAY_MONTH_25', 'DAY_MONTH_30'],\n",
       "      dtype='object')"
      ]
     },
     "execution_count": 80,
     "metadata": {},
     "output_type": "execute_result"
    }
   ],
   "source": [
    "#Viewing column names\n",
    "X_test_data.columns"
   ]
  },
  {
   "cell_type": "code",
   "execution_count": 81,
   "id": "cb562991",
   "metadata": {},
   "outputs": [],
   "source": [
    "#Dropping columns not in the model3\n",
    "X_test_data.drop(['CRS_DEP_TIME_9', 'CRS_DEP_TIME_22',\n",
    "       'DELAY_DEP_TIME_0', 'CARRIER_AA', 'CARRIER_DH', 'CARRIER_EV',\n",
    "       'ORIGIN_BWI', 'ORIGIN_IAD', 'WEATHER_1', 'DAY_MONTH_9', 'DAY_MONTH_10',\n",
    "       'DAY_MONTH_12', 'DAY_MONTH_25', 'DAY_MONTH_30'], axis=1, inplace=True)"
   ]
  },
  {
   "cell_type": "code",
   "execution_count": 82,
   "id": "da7453e1",
   "metadata": {},
   "outputs": [],
   "source": [
    "#Keeping only the 10 new observations\n",
    "X_test_data = pd.DataFrame(X_test_data.tail(10))"
   ]
  },
  {
   "cell_type": "code",
   "execution_count": 83,
   "id": "8b39baf7",
   "metadata": {},
   "outputs": [],
   "source": [
    "#Replacing nan values by 0\n",
    "X_test_data = X_test_data.replace(np.nan, 0)\n",
    "X_test_data = X_test_data.astype(int)"
   ]
  },
  {
   "cell_type": "code",
   "execution_count": 84,
   "id": "63a40902",
   "metadata": {},
   "outputs": [
    {
     "name": "stdout",
     "output_type": "stream",
     "text": [
      "<class 'pandas.core.frame.DataFrame'>\n",
      "Int64Index: 10 entries, 0 to 9\n",
      "Data columns (total 50 columns):\n",
      " #   Column            Non-Null Count  Dtype\n",
      "---  ------            --------------  -----\n",
      " 0   CRS_DEP_TIME_6    10 non-null     int32\n",
      " 1   CRS_DEP_TIME_7    10 non-null     int32\n",
      " 2   CRS_DEP_TIME_8    10 non-null     int32\n",
      " 3   CRS_DEP_TIME_10   10 non-null     int32\n",
      " 4   CRS_DEP_TIME_12   10 non-null     int32\n",
      " 5   CRS_DEP_TIME_13   10 non-null     int32\n",
      " 6   CRS_DEP_TIME_14   10 non-null     int32\n",
      " 7   CRS_DEP_TIME_15   10 non-null     int32\n",
      " 8   CRS_DEP_TIME_16   10 non-null     int32\n",
      " 9   CRS_DEP_TIME_17   10 non-null     int32\n",
      " 10  CRS_DEP_TIME_18   10 non-null     int32\n",
      " 11  CRS_DEP_TIME_19   10 non-null     int32\n",
      " 12  CRS_DEP_TIME_20   10 non-null     int32\n",
      " 13  CRS_DEP_TIME_21   10 non-null     int32\n",
      " 14  DELAY_DEP_TIME_1  10 non-null     int32\n",
      " 15  CARRIER_CO        10 non-null     int32\n",
      " 16  CARRIER_DL        10 non-null     int32\n",
      " 17  CARRIER_MQ        10 non-null     int32\n",
      " 18  CARRIER_RU        10 non-null     int32\n",
      " 19  CARRIER_US        10 non-null     int32\n",
      " 20  DEST_EWR          10 non-null     int32\n",
      " 21  DEST_JFK          10 non-null     int32\n",
      " 22  DEST_LGA          10 non-null     int32\n",
      " 23  ORIGIN_DCA        10 non-null     int32\n",
      " 24  WEATHER_0         10 non-null     int32\n",
      " 25  DAY_WEEK_1        10 non-null     int32\n",
      " 26  DAY_WEEK_2        10 non-null     int32\n",
      " 27  DAY_WEEK_3        10 non-null     int32\n",
      " 28  DAY_WEEK_4        10 non-null     int32\n",
      " 29  DAY_WEEK_5        10 non-null     int32\n",
      " 30  DAY_WEEK_6        10 non-null     int32\n",
      " 31  DAY_WEEK_7        10 non-null     int32\n",
      " 32  DAY_MONTH_1       10 non-null     int32\n",
      " 33  DAY_MONTH_3       10 non-null     int32\n",
      " 34  DAY_MONTH_4       10 non-null     int32\n",
      " 35  DAY_MONTH_5       10 non-null     int32\n",
      " 36  DAY_MONTH_6       10 non-null     int32\n",
      " 37  DAY_MONTH_8       10 non-null     int32\n",
      " 38  DAY_MONTH_11      10 non-null     int32\n",
      " 39  DAY_MONTH_13      10 non-null     int32\n",
      " 40  DAY_MONTH_14      10 non-null     int32\n",
      " 41  DAY_MONTH_15      10 non-null     int32\n",
      " 42  DAY_MONTH_17      10 non-null     int32\n",
      " 43  DAY_MONTH_19      10 non-null     int32\n",
      " 44  DAY_MONTH_20      10 non-null     int32\n",
      " 45  DAY_MONTH_22      10 non-null     int32\n",
      " 46  DAY_MONTH_23      10 non-null     int32\n",
      " 47  DAY_MONTH_27      10 non-null     int32\n",
      " 48  DAY_MONTH_29      10 non-null     int32\n",
      " 49  DAY_MONTH_31      10 non-null     int32\n",
      "dtypes: int32(50)\n",
      "memory usage: 2.0 KB\n"
     ]
    }
   ],
   "source": [
    "#Checking datatype of all predictors\n",
    "X_test_data.info()"
   ]
  },
  {
   "cell_type": "code",
   "execution_count": 85,
   "id": "5baec698",
   "metadata": {},
   "outputs": [
    {
     "data": {
      "text/html": [
       "<div>\n",
       "<style scoped>\n",
       "    .dataframe tbody tr th:only-of-type {\n",
       "        vertical-align: middle;\n",
       "    }\n",
       "\n",
       "    .dataframe tbody tr th {\n",
       "        vertical-align: top;\n",
       "    }\n",
       "\n",
       "    .dataframe thead th {\n",
       "        text-align: right;\n",
       "    }\n",
       "</style>\n",
       "<table border=\"1\" class=\"dataframe\">\n",
       "  <thead>\n",
       "    <tr style=\"text-align: right;\">\n",
       "      <th></th>\n",
       "      <th>CRS_DEP_TIME_6</th>\n",
       "      <th>CRS_DEP_TIME_7</th>\n",
       "      <th>CRS_DEP_TIME_8</th>\n",
       "      <th>CRS_DEP_TIME_10</th>\n",
       "      <th>CRS_DEP_TIME_12</th>\n",
       "      <th>CRS_DEP_TIME_13</th>\n",
       "      <th>CRS_DEP_TIME_14</th>\n",
       "      <th>CRS_DEP_TIME_15</th>\n",
       "      <th>CRS_DEP_TIME_16</th>\n",
       "      <th>CRS_DEP_TIME_17</th>\n",
       "      <th>...</th>\n",
       "      <th>DAY_MONTH_14</th>\n",
       "      <th>DAY_MONTH_15</th>\n",
       "      <th>DAY_MONTH_17</th>\n",
       "      <th>DAY_MONTH_19</th>\n",
       "      <th>DAY_MONTH_20</th>\n",
       "      <th>DAY_MONTH_22</th>\n",
       "      <th>DAY_MONTH_23</th>\n",
       "      <th>DAY_MONTH_27</th>\n",
       "      <th>DAY_MONTH_29</th>\n",
       "      <th>DAY_MONTH_31</th>\n",
       "    </tr>\n",
       "  </thead>\n",
       "  <tbody>\n",
       "    <tr>\n",
       "      <th>0</th>\n",
       "      <td>0</td>\n",
       "      <td>1</td>\n",
       "      <td>0</td>\n",
       "      <td>0</td>\n",
       "      <td>0</td>\n",
       "      <td>0</td>\n",
       "      <td>0</td>\n",
       "      <td>0</td>\n",
       "      <td>0</td>\n",
       "      <td>0</td>\n",
       "      <td>...</td>\n",
       "      <td>0</td>\n",
       "      <td>0</td>\n",
       "      <td>0</td>\n",
       "      <td>0</td>\n",
       "      <td>0</td>\n",
       "      <td>0</td>\n",
       "      <td>0</td>\n",
       "      <td>0</td>\n",
       "      <td>0</td>\n",
       "      <td>0</td>\n",
       "    </tr>\n",
       "    <tr>\n",
       "      <th>1</th>\n",
       "      <td>0</td>\n",
       "      <td>0</td>\n",
       "      <td>0</td>\n",
       "      <td>0</td>\n",
       "      <td>0</td>\n",
       "      <td>0</td>\n",
       "      <td>0</td>\n",
       "      <td>0</td>\n",
       "      <td>0</td>\n",
       "      <td>0</td>\n",
       "      <td>...</td>\n",
       "      <td>0</td>\n",
       "      <td>0</td>\n",
       "      <td>0</td>\n",
       "      <td>0</td>\n",
       "      <td>0</td>\n",
       "      <td>0</td>\n",
       "      <td>0</td>\n",
       "      <td>0</td>\n",
       "      <td>0</td>\n",
       "      <td>0</td>\n",
       "    </tr>\n",
       "    <tr>\n",
       "      <th>2</th>\n",
       "      <td>0</td>\n",
       "      <td>0</td>\n",
       "      <td>0</td>\n",
       "      <td>1</td>\n",
       "      <td>0</td>\n",
       "      <td>0</td>\n",
       "      <td>0</td>\n",
       "      <td>0</td>\n",
       "      <td>0</td>\n",
       "      <td>0</td>\n",
       "      <td>...</td>\n",
       "      <td>0</td>\n",
       "      <td>0</td>\n",
       "      <td>0</td>\n",
       "      <td>0</td>\n",
       "      <td>0</td>\n",
       "      <td>0</td>\n",
       "      <td>0</td>\n",
       "      <td>0</td>\n",
       "      <td>0</td>\n",
       "      <td>0</td>\n",
       "    </tr>\n",
       "    <tr>\n",
       "      <th>3</th>\n",
       "      <td>0</td>\n",
       "      <td>0</td>\n",
       "      <td>0</td>\n",
       "      <td>0</td>\n",
       "      <td>0</td>\n",
       "      <td>0</td>\n",
       "      <td>0</td>\n",
       "      <td>1</td>\n",
       "      <td>0</td>\n",
       "      <td>0</td>\n",
       "      <td>...</td>\n",
       "      <td>0</td>\n",
       "      <td>0</td>\n",
       "      <td>0</td>\n",
       "      <td>0</td>\n",
       "      <td>0</td>\n",
       "      <td>0</td>\n",
       "      <td>0</td>\n",
       "      <td>0</td>\n",
       "      <td>0</td>\n",
       "      <td>0</td>\n",
       "    </tr>\n",
       "    <tr>\n",
       "      <th>4</th>\n",
       "      <td>0</td>\n",
       "      <td>0</td>\n",
       "      <td>0</td>\n",
       "      <td>0</td>\n",
       "      <td>1</td>\n",
       "      <td>0</td>\n",
       "      <td>0</td>\n",
       "      <td>0</td>\n",
       "      <td>0</td>\n",
       "      <td>0</td>\n",
       "      <td>...</td>\n",
       "      <td>0</td>\n",
       "      <td>0</td>\n",
       "      <td>0</td>\n",
       "      <td>0</td>\n",
       "      <td>0</td>\n",
       "      <td>0</td>\n",
       "      <td>0</td>\n",
       "      <td>0</td>\n",
       "      <td>0</td>\n",
       "      <td>0</td>\n",
       "    </tr>\n",
       "    <tr>\n",
       "      <th>5</th>\n",
       "      <td>0</td>\n",
       "      <td>0</td>\n",
       "      <td>1</td>\n",
       "      <td>0</td>\n",
       "      <td>0</td>\n",
       "      <td>0</td>\n",
       "      <td>0</td>\n",
       "      <td>0</td>\n",
       "      <td>0</td>\n",
       "      <td>0</td>\n",
       "      <td>...</td>\n",
       "      <td>0</td>\n",
       "      <td>0</td>\n",
       "      <td>0</td>\n",
       "      <td>0</td>\n",
       "      <td>0</td>\n",
       "      <td>0</td>\n",
       "      <td>0</td>\n",
       "      <td>0</td>\n",
       "      <td>0</td>\n",
       "      <td>0</td>\n",
       "    </tr>\n",
       "    <tr>\n",
       "      <th>6</th>\n",
       "      <td>0</td>\n",
       "      <td>0</td>\n",
       "      <td>0</td>\n",
       "      <td>0</td>\n",
       "      <td>0</td>\n",
       "      <td>0</td>\n",
       "      <td>0</td>\n",
       "      <td>0</td>\n",
       "      <td>0</td>\n",
       "      <td>0</td>\n",
       "      <td>...</td>\n",
       "      <td>0</td>\n",
       "      <td>0</td>\n",
       "      <td>1</td>\n",
       "      <td>0</td>\n",
       "      <td>0</td>\n",
       "      <td>0</td>\n",
       "      <td>0</td>\n",
       "      <td>0</td>\n",
       "      <td>0</td>\n",
       "      <td>0</td>\n",
       "    </tr>\n",
       "    <tr>\n",
       "      <th>7</th>\n",
       "      <td>0</td>\n",
       "      <td>0</td>\n",
       "      <td>0</td>\n",
       "      <td>0</td>\n",
       "      <td>0</td>\n",
       "      <td>0</td>\n",
       "      <td>0</td>\n",
       "      <td>0</td>\n",
       "      <td>0</td>\n",
       "      <td>0</td>\n",
       "      <td>...</td>\n",
       "      <td>0</td>\n",
       "      <td>0</td>\n",
       "      <td>0</td>\n",
       "      <td>0</td>\n",
       "      <td>0</td>\n",
       "      <td>0</td>\n",
       "      <td>0</td>\n",
       "      <td>0</td>\n",
       "      <td>0</td>\n",
       "      <td>0</td>\n",
       "    </tr>\n",
       "    <tr>\n",
       "      <th>8</th>\n",
       "      <td>0</td>\n",
       "      <td>0</td>\n",
       "      <td>0</td>\n",
       "      <td>0</td>\n",
       "      <td>0</td>\n",
       "      <td>0</td>\n",
       "      <td>0</td>\n",
       "      <td>0</td>\n",
       "      <td>0</td>\n",
       "      <td>0</td>\n",
       "      <td>...</td>\n",
       "      <td>0</td>\n",
       "      <td>0</td>\n",
       "      <td>0</td>\n",
       "      <td>0</td>\n",
       "      <td>0</td>\n",
       "      <td>1</td>\n",
       "      <td>0</td>\n",
       "      <td>0</td>\n",
       "      <td>0</td>\n",
       "      <td>0</td>\n",
       "    </tr>\n",
       "    <tr>\n",
       "      <th>9</th>\n",
       "      <td>0</td>\n",
       "      <td>0</td>\n",
       "      <td>0</td>\n",
       "      <td>0</td>\n",
       "      <td>0</td>\n",
       "      <td>0</td>\n",
       "      <td>0</td>\n",
       "      <td>0</td>\n",
       "      <td>0</td>\n",
       "      <td>0</td>\n",
       "      <td>...</td>\n",
       "      <td>0</td>\n",
       "      <td>0</td>\n",
       "      <td>0</td>\n",
       "      <td>0</td>\n",
       "      <td>0</td>\n",
       "      <td>0</td>\n",
       "      <td>0</td>\n",
       "      <td>0</td>\n",
       "      <td>0</td>\n",
       "      <td>1</td>\n",
       "    </tr>\n",
       "  </tbody>\n",
       "</table>\n",
       "<p>10 rows × 50 columns</p>\n",
       "</div>"
      ],
      "text/plain": [
       "   CRS_DEP_TIME_6  CRS_DEP_TIME_7  CRS_DEP_TIME_8  CRS_DEP_TIME_10  \\\n",
       "0               0               1               0                0   \n",
       "1               0               0               0                0   \n",
       "2               0               0               0                1   \n",
       "3               0               0               0                0   \n",
       "4               0               0               0                0   \n",
       "5               0               0               1                0   \n",
       "6               0               0               0                0   \n",
       "7               0               0               0                0   \n",
       "8               0               0               0                0   \n",
       "9               0               0               0                0   \n",
       "\n",
       "   CRS_DEP_TIME_12  CRS_DEP_TIME_13  CRS_DEP_TIME_14  CRS_DEP_TIME_15  \\\n",
       "0                0                0                0                0   \n",
       "1                0                0                0                0   \n",
       "2                0                0                0                0   \n",
       "3                0                0                0                1   \n",
       "4                1                0                0                0   \n",
       "5                0                0                0                0   \n",
       "6                0                0                0                0   \n",
       "7                0                0                0                0   \n",
       "8                0                0                0                0   \n",
       "9                0                0                0                0   \n",
       "\n",
       "   CRS_DEP_TIME_16  CRS_DEP_TIME_17  ...  DAY_MONTH_14  DAY_MONTH_15  \\\n",
       "0                0                0  ...             0             0   \n",
       "1                0                0  ...             0             0   \n",
       "2                0                0  ...             0             0   \n",
       "3                0                0  ...             0             0   \n",
       "4                0                0  ...             0             0   \n",
       "5                0                0  ...             0             0   \n",
       "6                0                0  ...             0             0   \n",
       "7                0                0  ...             0             0   \n",
       "8                0                0  ...             0             0   \n",
       "9                0                0  ...             0             0   \n",
       "\n",
       "   DAY_MONTH_17  DAY_MONTH_19  DAY_MONTH_20  DAY_MONTH_22  DAY_MONTH_23  \\\n",
       "0             0             0             0             0             0   \n",
       "1             0             0             0             0             0   \n",
       "2             0             0             0             0             0   \n",
       "3             0             0             0             0             0   \n",
       "4             0             0             0             0             0   \n",
       "5             0             0             0             0             0   \n",
       "6             1             0             0             0             0   \n",
       "7             0             0             0             0             0   \n",
       "8             0             0             0             1             0   \n",
       "9             0             0             0             0             0   \n",
       "\n",
       "   DAY_MONTH_27  DAY_MONTH_29  DAY_MONTH_31  \n",
       "0             0             0             0  \n",
       "1             0             0             0  \n",
       "2             0             0             0  \n",
       "3             0             0             0  \n",
       "4             0             0             0  \n",
       "5             0             0             0  \n",
       "6             0             0             0  \n",
       "7             0             0             0  \n",
       "8             0             0             0  \n",
       "9             0             0             1  \n",
       "\n",
       "[10 rows x 50 columns]"
      ]
     },
     "execution_count": 85,
     "metadata": {},
     "output_type": "execute_result"
    }
   ],
   "source": [
    "#Viewing dataset\n",
    "X_test_data"
   ]
  },
  {
   "cell_type": "code",
   "execution_count": 86,
   "id": "58e9195b",
   "metadata": {},
   "outputs": [
    {
     "data": {
      "text/plain": [
       "array([0, 1, 0, 0, 0, 0, 0, 0, 1, 0])"
      ]
     },
     "execution_count": 86,
     "metadata": {},
     "output_type": "execute_result"
    }
   ],
   "source": [
    "#Using the optimal model to predict X_test_data\n",
    "model3.predict(X_test_data)"
   ]
  },
  {
   "cell_type": "markdown",
   "id": "da9b9873",
   "metadata": {},
   "source": [
    "Outcome: 'ontime', 'delay', 'ontime', 'ontime', 'ontime', 'ontime', 'ontime', 'ontime', 'delay', 'ontime'."
   ]
  },
  {
   "cell_type": "markdown",
   "id": "a2296dd6",
   "metadata": {},
   "source": [
    "## CONCLUSION"
   ]
  },
  {
   "cell_type": "markdown",
   "id": "30b4d98b",
   "metadata": {},
   "source": [
    "The model with the highest accuracy is model 3, which is constructed by decision tree algorithms using 50 binary predictors. The model accuracy on the valid set is 84.97% while the true positive rate and true negative rate of the valid set are 0.8919 and 0.8066. These numbers mean that the predicted values for 'on time' match with the actual values by 89.19% and that ratio for the 'delayed' class is 80.66%."
   ]
  },
  {
   "cell_type": "markdown",
   "id": "eddd55be",
   "metadata": {},
   "source": [
    "## REFERENCES"
   ]
  },
  {
   "cell_type": "markdown",
   "id": "edb0143f",
   "metadata": {},
   "source": [
    "* Five Techniques to Handle Imbalanced Data For a Classification Problem. [Link](https://www.analyticsvidhya.com/blog/2021/06/5-techniques-to-handle-imbalanced-data-for-a-classification-problem/#:~:text=Imbalanced%20data%20refers%20to%20those,dataset%20handling%20with%20an%20example)\n",
    "* How to handle imbalanced datasets. [Link](https://github.com/dataprofessor/imbalanced-data/blob/main/imbalanced_learn.ipynb)\n",
    "* Introduction to Machine Learning - Logistic Regression Example. [Link](https://github.com/Pitsillides91/Python-Tutorials/blob/master/Introduction%20to%20ML%20-%20Logistic%20Regression%20Example/Introduction%20to%20Machine%20Learning%20-%20Logistic%20Regression%20Example%20(Complete).ipynb)"
   ]
  }
 ],
 "metadata": {
  "kernelspec": {
   "display_name": "Python 3 (ipykernel)",
   "language": "python",
   "name": "python3"
  },
  "language_info": {
   "codemirror_mode": {
    "name": "ipython",
    "version": 3
   },
   "file_extension": ".py",
   "mimetype": "text/x-python",
   "name": "python",
   "nbconvert_exporter": "python",
   "pygments_lexer": "ipython3",
   "version": "3.9.12"
  }
 },
 "nbformat": 4,
 "nbformat_minor": 5
}
